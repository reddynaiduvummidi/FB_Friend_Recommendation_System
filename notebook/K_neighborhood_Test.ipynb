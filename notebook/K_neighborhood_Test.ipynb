{
 "cells": [
  {
   "cell_type": "markdown",
   "metadata": {},
   "source": [
    "## Imports"
   ]
  },
  {
   "cell_type": "code",
   "execution_count": 1,
   "metadata": {
    "collapsed": true
   },
   "outputs": [],
   "source": [
    "import networkx as nx\n",
    "import matplotlib.pyplot as plt\n",
    "import operator\n",
    "import random\n",
    "import pandas as pd\n",
    "import numpy as np\n",
    "from sklearn.metrics import mean_squared_error as mse\n",
    "import itertools\n",
    "\n",
    "%matplotlib inline "
   ]
  },
  {
   "cell_type": "markdown",
   "metadata": {},
   "source": [
    "## Graph Creation"
   ]
  },
  {
   "cell_type": "code",
   "execution_count": 2,
   "metadata": {
    "collapsed": true
   },
   "outputs": [],
   "source": [
    "facebook = nx.Graph()"
   ]
  },
  {
   "cell_type": "markdown",
   "metadata": {},
   "source": [
    "## Read dataset, Draw the Graph"
   ]
  },
  {
   "cell_type": "code",
   "execution_count": 3,
   "metadata": {
    "collapsed": true
   },
   "outputs": [],
   "source": [
    "def open_source_file(filename):\n",
    "    with open (filename,\"r\") as file:\n",
    "        if filename == \"../data/facebook-links.txt\":\n",
    "            content = file.readlines()\n",
    "            for i in range(len(content)):\n",
    "                point1 = content[i].split(\"\\t\")[0]\n",
    "                if point1 not in facebook:\n",
    "                    facebook.add_node(point1)\n",
    "                point2 = content[i].split(\"\\t\")[1]\n",
    "                if point2 not in facebook:\n",
    "                    facebook.add_node(point2)\n",
    "                facebook.add_edge(point1,point2)\n",
    "        else:\n",
    "            print (\"Not a valid file, please check again\")"
   ]
  },
  {
   "cell_type": "code",
   "execution_count": 4,
   "metadata": {
    "collapsed": true
   },
   "outputs": [],
   "source": [
    "open_source_file(\"../data/facebook-links.txt\")"
   ]
  },
  {
   "cell_type": "markdown",
   "metadata": {},
   "source": [
    "## Show the basic info about the Facebook Graph"
   ]
  },
  {
   "cell_type": "code",
   "execution_count": 5,
   "metadata": {
    "collapsed": true
   },
   "outputs": [],
   "source": [
    "def show_basic_info(graph):\n",
    "    print (nx.info(graph))"
   ]
  },
  {
   "cell_type": "code",
   "execution_count": 6,
   "metadata": {},
   "outputs": [
    {
     "name": "stdout",
     "output_type": "stream",
     "text": [
      "Original Dataset\n",
      "Name: \n",
      "Type: Graph\n",
      "Number of nodes: 63731\n",
      "Number of edges: 817090\n",
      "Average degree:  25.6418\n"
     ]
    }
   ],
   "source": [
    "print (\"Original Dataset\")\n",
    "show_basic_info(facebook)"
   ]
  },
  {
   "cell_type": "markdown",
   "metadata": {},
   "source": [
    "## Remove the user only have one friend"
   ]
  },
  {
   "cell_type": "code",
   "execution_count": 7,
   "metadata": {
    "collapsed": true
   },
   "outputs": [],
   "source": [
    "# only do it once!!!!\n",
    "def remove_user_with_one_friend(graph):\n",
    "    edge_to_remove = {}\n",
    "    # find the user with only one friend, and store the edge connection as a dictionary format.\n",
    "    # the format of dictionary is: {user(shown in user_id): the only friend(shown in user_id)}\n",
    "    for node in nx.nodes_iter(graph):\n",
    "        if (len(graph.neighbors(node)) <= 1):\n",
    "            neighbor = graph.neighbors(node)\n",
    "            edge_to_remove[node] = neighbor[0]\n",
    "        else:\n",
    "            pass\n",
    "    \n",
    "    first10pairs = {k: edge_to_remove[k] for k in list(edge_to_remove)[:10]}\n",
    "    print (\"First 10 pairs\",first10pairs)\n",
    "        \n",
    "    for key in edge_to_remove:\n",
    "        if graph.has_edge(key,edge_to_remove[key]):\n",
    "            graph.remove_edge(key,edge_to_remove[key])\n",
    "        else:\n",
    "            pass\n",
    "        if graph.has_node(key):\n",
    "            graph.remove_node(key)\n",
    "        else:\n",
    "            pass\n",
    "    # after removing,there are some nodes that don't have edges.We simply delete those nodes as well. \n",
    "    further_node_to_remove = []\n",
    "    for node in nx.nodes_iter(graph):\n",
    "        if (len(graph.neighbors(node)) == 0):\n",
    "            further_node_to_remove.append(node)\n",
    "    print (\"After preliminary removing, further remove users with no friends\",further_node_to_remove)\n",
    "    for node in further_node_to_remove:\n",
    "        graph.remove_node(node)"
   ]
  },
  {
   "cell_type": "code",
   "execution_count": 8,
   "metadata": {},
   "outputs": [],
   "source": [
    "# remove_user_with_one_friend(facebook)"
   ]
  },
  {
   "cell_type": "code",
   "execution_count": 9,
   "metadata": {},
   "outputs": [
    {
     "name": "stdout",
     "output_type": "stream",
     "text": [
      "Dataset after removing\n",
      "Name: \n",
      "Type: Graph\n",
      "Number of nodes: 63731\n",
      "Number of edges: 817090\n",
      "Average degree:  25.6418\n"
     ]
    }
   ],
   "source": [
    "print (\"Dataset after removing\")\n",
    "show_basic_info(facebook)"
   ]
  },
  {
   "cell_type": "markdown",
   "metadata": {},
   "source": [
    "## Adjacency Matrix"
   ]
  },
  {
   "cell_type": "code",
   "execution_count": 10,
   "metadata": {},
   "outputs": [
    {
     "name": "stdout",
     "output_type": "stream",
     "text": [
      "adjacency_matrix [1] : ['2', '3', '4', '5', '6', '7', '8', '9', '10', '11', '12', '13', '14', '15', '16', '17', '18', '19', '20', '21', '22', '23', '24', '25', '26', '27']\n",
      "adjacency_matrix [2] : ['1', '1132', '3', '2053', '2054', '479', '51', '2055', '7', '9', '1645', '11', '12', '2056', '16', '17', '18', '2057', '1237', '23', '2058', '53', '2059', '2060', '1079', '2061']\n",
      "adjacency_matrix [3] : ['1', '1747', '2', '2599', '1638', '1199', '2600', '683', '1289', '2055', '6', '7', '2958', '1645', '11', '12', '2056', '1649', '309', '15', '16', '17', '18', '19', '30605', '1003', '17297', '15818', '1237', '42296', '821', '53', '4223', '2059']\n",
      "adjacency_matrix [4] : ['1', '2888', '2636', '2638', '2174', '2957', '2958', '2175', '2959', '2960']\n",
      "adjacency_matrix [5] : ['1', '813', '1636', '814', '1640', '4503', '1641', '1642', '683', '2054', '4964', '1643', '1644', '639', '2957', '4219', '2056', '687', '815', '1646', '1648', '1649', '1650', '4246', '22', '1095', '12366', '821', '469', '2548', '27', '12367', '1528']\n"
     ]
    }
   ],
   "source": [
    "adjacency_matrix = {}\n",
    "for node in nx.nodes_iter(facebook):\n",
    "    adjacency_matrix[int(node)] = [neighbor for neighbor in nx.all_neighbors(facebook,node)]   \n",
    "# print the first 10 users with their friends for testing purposes\n",
    "for i in range(5):\n",
    "    print (\"adjacency_matrix\",[i+1],\":\",adjacency_matrix[i+1])"
   ]
  },
  {
   "cell_type": "markdown",
   "metadata": {},
   "source": [
    "## Create Dictionary, for number of friends"
   ]
  },
  {
   "cell_type": "code",
   "execution_count": 11,
   "metadata": {
    "collapsed": true
   },
   "outputs": [],
   "source": [
    "num_of_friends = {}\n",
    "for key in adjacency_matrix:\n",
    "    num_of_friends[int(key)] = len(adjacency_matrix[key])"
   ]
  },
  {
   "cell_type": "code",
   "execution_count": 12,
   "metadata": {
    "collapsed": true
   },
   "outputs": [],
   "source": [
    "updat_num_of_friends = sorted(num_of_friends.items(), key=lambda x: (-x[1], x[0]))"
   ]
  },
  {
   "cell_type": "code",
   "execution_count": 13,
   "metadata": {},
   "outputs": [
    {
     "name": "stdout",
     "output_type": "stream",
     "text": [
      "number of users in total: 63731\n"
     ]
    }
   ],
   "source": [
    "num_users = len(adjacency_matrix)\n",
    "print (\"number of users in total:\",num_users)"
   ]
  },
  {
   "cell_type": "markdown",
   "metadata": {},
   "source": [
    "## Calculate the sparisty of dataset"
   ]
  },
  {
   "cell_type": "code",
   "execution_count": 14,
   "metadata": {},
   "outputs": [
    {
     "name": "stdout",
     "output_type": "stream",
     "text": [
      "Sparsity: 0.04%\n"
     ]
    }
   ],
   "source": [
    "utility = np.zeros((num_users, num_users))\n",
    "for user_id, user_friend_ids in adjacency_matrix.items():\n",
    "    for x in user_friend_ids:\n",
    "        utility[(int)(user_id) - 1, (int)(x) - 1] = 1\n",
    "        \n",
    "sparsity = float(len(utility.nonzero()[0]))\n",
    "sparsity /= (utility.shape[0] * utility.shape[1])\n",
    "sparsity *= 100\n",
    "print('Sparsity: {:.2f}%'.format(sparsity))\n",
    "utility = utility[0:20000,0:20000]"
   ]
  },
  {
   "cell_type": "markdown",
   "metadata": {},
   "source": [
    "## Evaluation via Mean Squared Error (MSE)"
   ]
  },
  {
   "cell_type": "code",
   "execution_count": 15,
   "metadata": {
    "collapsed": true
   },
   "outputs": [],
   "source": [
    "def mse_utility(u1, u2):\n",
    "    return mse(u1[u1.nonzero()].flatten(), u2[u2.nonzero()].flatten())"
   ]
  },
  {
   "cell_type": "markdown",
   "metadata": {},
   "source": [
    "## Similarity via Cosine Distance"
   ]
  },
  {
   "cell_type": "code",
   "execution_count": 16,
   "metadata": {
    "collapsed": true
   },
   "outputs": [],
   "source": [
    "def cosine_sim(v1, v2):\n",
    "    numerator = sum([x * y for x, y in zip(v1, v2)])\n",
    "    denominator = np.sqrt(sum([x ** 2 for x in v1])) * np.sqrt(sum([x ** 2 for x in v2]))\n",
    "    return numerator / denominator"
   ]
  },
  {
   "cell_type": "code",
   "execution_count": 17,
   "metadata": {
    "collapsed": true
   },
   "outputs": [],
   "source": [
    "def sim_matrix(u, eps=1.0e-9):\n",
    "    step1 = u.dot(u.T) + eps\n",
    "    step2 = np.array([np.sqrt(np.diagonal(step1))])\n",
    "    return (step1 / step2 / step2.T)"
   ]
  },
  {
   "cell_type": "code",
   "execution_count": 18,
   "metadata": {},
   "outputs": [
    {
     "name": "stdout",
     "output_type": "stream",
     "text": [
      "The slowest run took 4.30 times longer than the fastest. This could mean that an intermediate result is being cached.\n",
      "10 loops, best of 3: 9.67 ms per loop\n"
     ]
    }
   ],
   "source": [
    "%timeit -n 10 -r 3 sim_matrix(utility[:50,:])"
   ]
  },
  {
   "cell_type": "code",
   "execution_count": 19,
   "metadata": {},
   "outputs": [
    {
     "name": "stdout",
     "output_type": "stream",
     "text": [
      "[[  1.00000000e+00   5.58156306e-01   5.91312396e-01 ...,   7.41249317e-02\n",
      "    1.96116135e-10   2.77350098e-01]\n",
      " [  5.58156306e-01   1.00000000e+00   6.67423813e-01 ...,   1.19522861e-01\n",
      "    3.16227766e-10   2.23606798e-01]\n",
      " [  5.91312396e-01   6.67423813e-01   1.00000000e+00 ...,   1.13960576e-10\n",
      "    3.01511344e-10   2.13200717e-01]\n",
      " ..., \n",
      " [  7.41249317e-02   1.19522861e-01   1.13960576e-10 ...,   1.00000000e+00\n",
      "    3.77964473e-01   2.67261242e-10]\n",
      " [  1.96116135e-10   3.16227766e-10   3.01511344e-10 ...,   3.77964473e-01\n",
      "    1.00000000e+00   7.07106781e-10]\n",
      " [  2.77350098e-01   2.23606798e-01   2.13200717e-01 ...,   2.67261242e-10\n",
      "    7.07106781e-10   1.00000000e+00]]\n"
     ]
    }
   ],
   "source": [
    "def sim_users(u):\n",
    "    return sim_matrix(u)\n",
    "\n",
    "print(sim_users(utility[:50,:50]))"
   ]
  },
  {
   "cell_type": "markdown",
   "metadata": {},
   "source": [
    "# K neighborhood"
   ]
  },
  {
   "cell_type": "code",
   "execution_count": 20,
   "metadata": {
    "collapsed": true
   },
   "outputs": [],
   "source": [
    "def top_k(arr, self_idx, k):\n",
    "    val_index = { v:key for key, v in enumerate(arr) }\n",
    "    top_k_val = sorted(val_index.keys())[::-1]\n",
    "    i = 0\n",
    "    res = {}\n",
    "    while i < k:\n",
    "        if val_index[top_k_val[i]] == self_idx:\n",
    "            i += 1\n",
    "            k += 1\n",
    "            continue\n",
    "        res[val_index[top_k_val[i]]] = top_k_val[i]\n",
    "        i += 1\n",
    "    return res"
   ]
  },
  {
   "cell_type": "markdown",
   "metadata": {},
   "source": [
    "## Recommend via Similar Users"
   ]
  },
  {
   "cell_type": "code",
   "execution_count": 21,
   "metadata": {
    "collapsed": true
   },
   "outputs": [],
   "source": [
    "def rec_via_users(m_utility, m_sim_users, user_idx, frd_idx, k):\n",
    "    items = m_utility[:, frd_idx]\n",
    "    i_sim = top_k(m_sim_users[:, user_idx], user_idx, k)\n",
    "    non_zero_index = [i for i in i_sim if items[i] != 0]\n",
    "    if sum([i_sim[i] for i in non_zero_index]) == 0:\n",
    "        return 0\n",
    "    return sum([i_sim[i] * items[i] for i in non_zero_index]) / sum([i_sim[i] for i in non_zero_index])"
   ]
  },
  {
   "cell_type": "markdown",
   "metadata": {},
   "source": [
    "## Evaluation"
   ]
  },
  {
   "cell_type": "code",
   "execution_count": 22,
   "metadata": {},
   "outputs": [
    {
     "name": "stdout",
     "output_type": "stream",
     "text": [
      "1/50 0.602441358297\n",
      "2/50 0.486766120297\n",
      "3/50 0.401515150712\n",
      "4/50 0.37957665828\n",
      "5/50 0.352803737612\n",
      "6/50 0.352233216733\n",
      "7/50 0.309199521484\n",
      "8/50 0.265583553845\n",
      "9/50 0.279977050501\n",
      "10/50 0.268702717311\n",
      "11/50 0.279517379504\n",
      "12/50 0.291489361119\n",
      "13/50 0.270888070924\n",
      "14/50 0.250399232971\n",
      "15/50 0.223288381296\n",
      "16/50 0.217059638956\n",
      "17/50 0.209167391517\n",
      "18/50 0.192296718588\n",
      "19/50 0.184735706211\n",
      "20/50 0.194568579879\n",
      "21/50 0.20403749058\n",
      "22/50 0.164860095461\n",
      "23/50 0.174589699707\n",
      "24/50 0.192241378926\n",
      "25/50 0.153157759857\n",
      "26/50 0.159187385976\n",
      "27/50 0.113636363409\n",
      "28/50 0.142202940183\n",
      "29/50 0.136625264798\n",
      "30/50 0.129756364372\n",
      "31/50 0.15365239264\n",
      "32/50 0.13223371514\n",
      "33/50 0.139067730858\n",
      "34/50 0.147500682579\n",
      "35/50 0.110539845537\n",
      "36/50 0.119988293585\n",
      "37/50 0.129688493065\n",
      "38/50 0.134956416923\n",
      "39/50 0.137373737099\n",
      "40/50 0.108219177866\n",
      "41/50 0.0832345969899\n",
      "42/50 0.125449101546\n",
      "43/50 0.0891405340842\n",
      "44/50 0.174208144448\n",
      "45/50 0.111563044518\n",
      "46/50 0.0798305635419\n",
      "47/50 0.0906219628897\n",
      "48/50 0.0916417908615\n",
      "49/50 0.0918187167087\n",
      "50/50 0.104446502802\n"
     ]
    }
   ],
   "source": [
    "random.seed(12345)\n",
    "\n",
    "def recs_via_users(m_utility, m_sim_users, k, test_n):\n",
    "    test = random.sample(range(m_sim_users.shape[0]), test_n)\n",
    "    true = []\n",
    "    pred = []\n",
    "    for user_idx in test:\n",
    "        for item_idx in range(m_utility.shape[1]):\n",
    "            if m_utility[user_idx][item_idx] != 0:\n",
    "                true.append(m_utility[user_idx][item_idx])\n",
    "                \n",
    "                p = round(rec_via_users(m_utility, m_sim_users, user_idx, item_idx, k))\n",
    "                if p != 0:    \n",
    "                    pred.append(p)\n",
    "                else:\n",
    "                    pred.append(1.0e-9)\n",
    "                        \n",
    "\n",
    "    return mse_utility(np.array([true], dtype=np.float64), np.array([pred], dtype=np.float64))\n",
    "    \n",
    "similarity_users = sim_users(utility)\n",
    "\n",
    "ks = []\n",
    "mses = []\n",
    "for i in range(50):\n",
    "    ks.append(i+1)\n",
    "    mses.append(recs_via_users(utility, similarity_users, i+1, 100))\n",
    "    print(\"{}/50\".format(i+1), mses[-1])"
   ]
  },
  {
   "cell_type": "code",
   "execution_count": 23,
   "metadata": {
    "collapsed": true
   },
   "outputs": [],
   "source": [
    "# %timeit -n 10 -r 3 recs_via_users(utility, similarity_users, 2, 100)"
   ]
  },
  {
   "cell_type": "code",
   "execution_count": 24,
   "metadata": {
    "collapsed": true
   },
   "outputs": [],
   "source": [
    "# %timeit -n 10 -r 3 recs_via_users(utility, similarity_users, 20, 100)"
   ]
  },
  {
   "cell_type": "code",
   "execution_count": 26,
   "metadata": {},
   "outputs": [
    {
     "data": {
      "text/plain": [
       "[<matplotlib.lines.Line2D at 0x11caf0ac8>]"
      ]
     },
     "execution_count": 26,
     "metadata": {},
     "output_type": "execute_result"
    },
    {
     "data": {
      "image/png": "[encoded data removed]",
      "text/plain": [
       "<matplotlib.figure.Figure at 0x11c810780>"
      ]
     },
     "metadata": {},
     "output_type": "display_data"
    }
   ],
   "source": [
    "plt.plot(ks, mses)"
   ]
  }
 ],
 "metadata": {
  "kernelspec": {
   "display_name": "Python 3",
   "language": "python",
   "name": "python3"
  },
  "language_info": {
   "codemirror_mode": {
    "name": "ipython",
    "version": 3
   },
   "file_extension": ".py",
   "mimetype": "text/x-python",
   "name": "python",
   "nbconvert_exporter": "python",
   "pygments_lexer": "ipython3",
   "version": "3.6.1"
  }
 },
 "nbformat": 4,
 "nbformat_minor": 2
}
