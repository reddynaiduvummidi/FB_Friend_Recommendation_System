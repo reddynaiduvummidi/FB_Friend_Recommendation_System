{
 "cells": [
  {
   "cell_type": "markdown",
   "metadata": {},
   "source": [
    "Program to find probable friend for give user.\n",
    "\n",
    "    Req: Id of the user\n",
    "    Returns: UserId who share max mutual friend with the provided userId\n",
    "    Driver Function: recommendFrnd(Integer)   \n",
    "    "
   ]
  },
  {
   "cell_type": "code",
   "execution_count": 19,
   "metadata": {},
   "outputs": [],
   "source": [
    "\"\"\"\n",
    "recommendFrnd: 1. Read data from file containing friends\n",
    "               2. Build per user friendList \n",
    "               3. Find most probable friend for given seed on the \n",
    "                  basis of max mutual friends\n",
    "\"\"\"\n",
    "\n",
    "def recommendFrnd(seed):\n",
    "\n",
    "    rows=readDataInMem() #list of lines read from file (expected format: [id1,id2,timestamp(0 if no timestamp)])\n",
    "    frndMap=buildPerUserFrndLst(rows) # dict with userId and friendList (format {id:[friendList]})\n",
    "    level1Frnds=frndMap[seed] # Friend list for the provided seed (format: List of friend Ids)\n",
    "    probableFrnd,support=frndWithMaxMutualCount(level1Frnds)   # probable friend Id and tot mutual friends\n",
    "\n",
    "    #Display frined Id with max frequency or mutual friend\n",
    "    print(\"Suggest user \"+str(probableFrnd)+\" to \"+str(seed)+ \" (common friends:\"+str(support)+\" )\")\n",
    "\n",
    " \n",
    "\n",
    "\"\"\"\n",
    "readDataInMem: Read data from provided file into a list (one record per line)\n",
    "               Returns list\n",
    "\"\"\"\n",
    "\n",
    "def readDataInMem():\n",
    "    cols=[]\n",
    "    rows=[]\n",
    "    with open('data/washingtonUni_fbdata','r') as fr:\n",
    "        for line in fr:\n",
    "            cols=line.split()\n",
    "            if cols[-1]=='\\\\N':\n",
    "                cols[-1]='0'\n",
    "            cols=list(map(int,cols))\n",
    "            rows.append(cols)\n",
    "    return rows\n",
    "\n",
    "\n",
    "\"\"\"\n",
    "buildPerUserFrndLst: Build dict of {userId:[friendList]} from list provided\n",
    "                     Returns the built dict\n",
    "\"\"\"\n",
    "\n",
    "def buildPerUserFrndLst(rows):\n",
    "    frndMap={}\n",
    "    for r in rows:\n",
    "        if r[0] in frndMap:\n",
    "            frndMap[r[0]].add(r[1])\n",
    "        else:\n",
    "            frndMap[r[0]]=set()\n",
    "            frndMap[r[0]].add(r[1])\n",
    "            \n",
    "    return frndMap\n",
    "\n",
    "\"\"\"\n",
    "frndWithMaxMutualCount: Calculate the occurence of each Id found at level2 (i.e. friends of level1 friends)\n",
    "                        Returns the userId with max count and count\n",
    "\"\"\"\n",
    "\n",
    "def frndWithMaxMutualCount(level1Frnds):\n",
    "    level2Frnds= set()\n",
    "    freqCnt={}\n",
    "    thisFrndFrnds=[]\n",
    "\n",
    "    #iterate through level1 friends\n",
    "\n",
    "    for i in level1Frnds:\n",
    "        if i in frndMap.keys():        \n",
    "            thisFrndFrnds=frndMap[i]\n",
    "                                     #get friendlist of level1 friend\n",
    "            for j in thisFrndFrnds:  #for each friend l2 of level1 friend l1,\n",
    "                if j != seed:       # if l1 not one of level1 friend add t to set\n",
    "                                     # and set frequency to 1. \n",
    "                    if j not in level1Frnds: \n",
    "                        if j in level2Frnds:\n",
    "                            freqCnt[j]=freqCnt[j]+1\n",
    "                        else:\n",
    "                            level2Frnds.add(j)\n",
    "                            freqCnt[j]=1\n",
    "    friendToSuggest=max(freqCnt, key=freqCnt.get)\n",
    "    return friendToSuggest,freqCnt[friendToSuggest]\n",
    "                \n",
    "    "
   ]
  },
  {
   "cell_type": "code",
   "execution_count": 20,
   "metadata": {},
   "outputs": [
    {
     "name": "stdout",
     "output_type": "stream",
     "text": [
      "Suggest user 2056 to 1 (common friends:11 )\n"
     ]
    }
   ],
   "source": [
    "\n",
    "seed=1 #userId of the user for which we need to find mutual friend\n",
    "recommendFrnd(seed) # search probable friend"
   ]
  },
  {
   "cell_type": "code",
   "execution_count": null,
   "metadata": {},
   "outputs": [],
   "source": []
  }
 ],
 "metadata": {
  "kernelspec": {
   "display_name": "Python 3",
   "language": "python",
   "name": "python3"
  },
  "language_info": {
   "codemirror_mode": {
    "name": "ipython",
    "version": 3
   },
   "file_extension": ".py",
   "mimetype": "text/x-python",
   "name": "python",
   "nbconvert_exporter": "python",
   "pygments_lexer": "ipython3",
   "version": "3.5.2"
  }
 },
 "nbformat": 4,
 "nbformat_minor": 2
}
