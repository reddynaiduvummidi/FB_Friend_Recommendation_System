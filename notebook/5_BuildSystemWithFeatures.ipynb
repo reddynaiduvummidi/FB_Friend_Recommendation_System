{
 "cells": [
  {
   "cell_type": "code",
   "execution_count": 4,
   "metadata": {},
   "outputs": [],
   "source": [
    " from geopy.distance import vincenty"
   ]
  },
  {
   "cell_type": "code",
   "execution_count": 3,
   "metadata": {},
   "outputs": [],
   "source": [
    "\"\"\"\n",
    "readDataInMem: Read data from provided file into a list (one record per line)\n",
    "               Returns list\n",
    "\"\"\"\n",
    "\n",
    "def readDataInMem():\n",
    "    cols=[]\n",
    "    rows=[]\n",
    "    with open(\"../data/testData\",'r') as fr:\n",
    "        for line in fr:\n",
    "            cols=line.split()\n",
    "            if cols[-1]=='\\\\N':\n",
    "                cols[-1]='0'\n",
    "            cols=list(map(int,cols))\n",
    "            rows.append(cols)\n",
    "    return rows"
   ]
  },
  {
   "cell_type": "code",
   "execution_count": 4,
   "metadata": {},
   "outputs": [],
   "source": [
    "rows=readDataInMem()"
   ]
  },
  {
   "cell_type": "code",
   "execution_count": 5,
   "metadata": {},
   "outputs": [],
   "source": [
    "\n",
    "\"\"\"\n",
    "buildPerUserFrndLst: Build dict of {userId:[friendList]} from list provided\n",
    "                     Returns the built dict\n",
    "\"\"\"\n",
    "\n",
    "def buildPerUserFrndLst(rows):\n",
    "    frndMap={}\n",
    "    for r in rows:\n",
    "        if r[0] in frndMap:\n",
    "            prevList=frndMap[r[0]]\n",
    "            newSet=set(prevList+r[1:])\n",
    "            frndMap[r[0]]=list(newSet)\n",
    "        else:\n",
    "            frndMap[r[0]]=r[1:]\n",
    "            \n",
    "            \n",
    "    return frndMap"
   ]
  },
  {
   "cell_type": "code",
   "execution_count": 6,
   "metadata": {},
   "outputs": [],
   "source": [
    "frndMap=buildPerUserFrndLst(rows)"
   ]
  },
  {
   "cell_type": "code",
   "execution_count": 15,
   "metadata": {},
   "outputs": [],
   "source": [
    "\"\"\"\n",
    "recommendFrnd: 1. Read data from file containing friends\n",
    "               2. Build per user friendList \n",
    "               3. Find most probable friend for given seed on the \n",
    "                  basis of max mutual friends\n",
    "\"\"\"\n",
    "\n",
    "def getCandidates(seed,frndMap):\n",
    "    level1Frnds=[]\n",
    "    level1Frnds=frndMap[seed] # Friend list for the provided seed (format: List of friend Ids)\n",
    "    probableFrnd=0\n",
    "    support=0\n",
    "    probableFrndDict=getProbableFriendDict(level1Frnds,frndMap,seed)   # candidates for suggestions\n",
    "    return probableFrndDict\n",
    "\n",
    " \n",
    "\n",
    "\n",
    "\n",
    "\"\"\"\n",
    "frndWithMaxMutualCount: Calculate the occurence of each Id found at level2 (i.e. friends of level1 friends)\n",
    "                        Returns the userId with max count and count\n",
    "\"\"\"\n",
    "\n",
    "def getProbableFriendDict(level1Frnds,frndMap,seed):\n",
    "    level2Frnds= set()\n",
    "    freqCnt={}\n",
    "    thisFrndFrnds=[]\n",
    "\n",
    "    #iterate through level1 friends\n",
    "\n",
    "    for i in level1Frnds:\n",
    "        if i in frndMap.keys():        \n",
    "            thisFrndFrnds=frndMap[i]\n",
    "                                     #get friendlist of level1 friend\n",
    "            for j in thisFrndFrnds:  #for each friend l2 of level1 friend l1,\n",
    "                if j != seed:       # if l1 not one of level1 friend add t to set\n",
    "                                     # and set frequency to 1. \n",
    "                    if j not in level1Frnds: \n",
    "                        if j in level2Frnds:\n",
    "                            freqCnt[j]=freqCnt[j]+1\n",
    "                        else:\n",
    "                            level2Frnds.add(j)\n",
    "                            freqCnt[j]=1\n",
    "    return freqCnt\n",
    "\n",
    "\n",
    "\n",
    "    \n",
    "    "
   ]
  },
  {
   "cell_type": "code",
   "execution_count": 16,
   "metadata": {},
   "outputs": [],
   "source": [
    "userInfoDict={}\n",
    "with open(\"../data/userFeatureMatrix.txt\", 'r') as fp:\n",
    "    for line in fp:\n",
    "        cols=line.split()\n",
    "        if cols[0] not in userInfoDict:\n",
    "            userInfoDict[int(cols[0])]=list(map(float,cols[1:]))"
   ]
  },
  {
   "cell_type": "code",
   "execution_count": 19,
   "metadata": {},
   "outputs": [
    {
     "name": "stdout",
     "output_type": "stream",
     "text": [
      "{10207648390994439: [26.0, 42.3578, -71.0617]}\n"
     ]
    }
   ],
   "source": [
    "print(str(userInfoDict))"
   ]
  },
  {
   "cell_type": "code",
   "execution_count": 28,
   "metadata": {},
   "outputs": [
    {
     "name": "stdout",
     "output_type": "stream",
     "text": [
      "{761333840587264: 1, 10202939550824451: 1, 10101764971888982: 1, 10201746230124038: 2, 754643311235080: 1, 750078275061264: 1, 10152834062440985: 1, 760571680660508: 1, 10202204907962398: 1, 10203914558804741: 1, 10204719111966896: 1, 10202337963916273: 2, 10205492441004550: 1, 406112739565606: 1, 729833527078507: 1, 10153252686761004: 1, 998051830247469: 3, 10205287042997294: 1, 10201274848029232: 1, 606052915: 1, 755127101192757: 1, 364030657100346: 1, 863829413637694: 1, 10100428308394559: 1, 10153390122910795: 1, 10100458531161676: 1, 10104356181055053: 1, 1097694013628495: 1, 10206144613507666: 1, 10153144788635731: 1, 1029253450463316: 1, 10154961553375354: 1, 10152877936762042: 1, 10204259123710565: 1, 827757967278184: 1, 818605684852331: 1, 10152543086647916: 1, 10203362021565549: 2, 969960629682798: 1, 1092627744102514: 1, 4084418404979: 1, 671033876323960: 1, 10204262496856698: 1, 10103809753734779: 1, 10155369201895037: 1, 145453392547970: 1, 10153395273753219: 1, 1685098874842248: 1, 10152782760661131: 1, 668905966531726: 1, 10152382904246930: 1, 698765246827459: 1, 851618228372: 1, 10205392169346197: 1, 961189327247897: 1, 10152540824309405: 1, 10205323220150432: 1, 10100720586006692: 1, 10152549368319142: 1, 10204329570333867: 1, 922836991085170: 1, 10154744136190128: 1, 10152672522426589: 1, 888574097833011: 1, 1123178807734969: 1, 10204044426415290: 1, 10205076872458939: 1, 1134289383252668: 1, 681809908521155: 1, 10159570689140422: 1, 10204992484315339: 1, 10153774643932369: 1, 10203509688399570: 1, 10204313431429843: 1, 193907877790935: 1, 876426799062237: 1, 10104505905291490: 1, 253487501706471: 1, 839545979390184: 2, 10206048104908009: 1, 1078785372138222: 1, 580104492121060: 1, 10204720293754610: 1, 10203271631327475: 1, 1713083637: 1, 10152944133817590: 1, 570282906450679: 2, 949922345035512: 1, 703819746327289: 1, 10152883084392188: 1, 1120299124684544: 1, 1065640300138754: 1, 100001233181955: 1, 10152428102382341: 1, 882562135127814: 1, 10101574555604743: 1, 871246019603723: 1, 10101768040479501: 1, 10100755017830162: 1, 10206524361890580: 1, 1389974334362903: 1, 774261546001688: 1, 925058664171823: 1, 10205393822950193: 1, 10204744124035891: 1, 618938378248500: 1, 871293486217525: 2, 10100503692547898: 1, 10205551090399549: 1, 10153028044846917: 2, 10203396002849761: 1, 270054389867338: 1, 10200449256869707: 1, 10100998965586764: 1, 10205468099480911: 1, 10100688152019795: 1, 10101789498377870: 1, 606692169461078: 1, 10104374214510937: 1, 10152576520467293: 1, 10203560234588514: 1, 10205837399876451: 1, 10203654739225447: 1, 10100701773337449: 1, 10153708397961959: 1, 10152710647065452: 2, 100001929280366: 1, 1016288455049073: 1, 10206206253178228: 1, 10152181203242872: 2, 10103800239431545: 1, 883095015058069: 1, 597232940418: 1, 10152487516090756: 1, 10152443601787273: 1, 10204000781205899: 1, 10153633403180942: 1, 10103861357245933: 1, 1096833020330389: 1, 10152738663620502: 1, 1471589796221847: 1, 760150654077851: 1, 10203280731325343: 1, 549320345195426: 1, 708472405925283: 1, 10103514473673639: 1, 10202613294774184: 1, 10203685912724905: 1, 1787367144: 1, 846314905418676: 1, 10152498857418170: 1, 10203881668262331: 1, 881754645211581: 1, 1206574923: 1, 10152821309813189: 1, 10152952776844743: 2, 1247590478586871: 1, 1083551555004366: 1, 10203259291476947: 1, 10209075809431509: 1, 907320285949092: 1, 10212435042087898: 1, 10206542970640463: 1, 10202469961695196: 1, 1293602607321568: 1, 10152383836866529: 1, 10155301135870436: 1, 10204456928157669: 1, 1077352748956135: 1, 10203471089433066: 1, 842985535763367: 1, 10152365519957485: 1, 10152994270337448: 1, 10204837590290929: 1, 1123290364355061: 1, 10152827378086902: 1, 878084965575159: 1}\n"
     ]
    }
   ],
   "source": [
    "seed=10207648390994439\n",
    "probableFrndDict=getCandidates(seed,frndMap)\n",
    "print(str(probableFrndDict))"
   ]
  },
  {
   "cell_type": "code",
   "execution_count": 23,
   "metadata": {},
   "outputs": [],
   "source": [
    "def buildMatrix(seed):\n",
    "    matrix=[]\n",
    "    \n",
    "    for user in probableFrndDict:\n",
    "        row=[]\n",
    "        if user in userInfoDict:\n",
    "            row.append(user) #id\n",
    "            #age\n",
    "            row.append(1/(abs(userInfoDict[user][0]-userInfoDict[seed][0])))\n",
    "            #location\n",
    "            row.append(1/(abs(vincenty((userInfoDict[user][1],userInfoDict[user][2]),(userInfoDict[seed][1],userInfoDict[seed][2])).miles)))\n",
    "            matrix.append(row)\n",
    "    return matrix"
   ]
  },
  {
   "cell_type": "code",
   "execution_count": 29,
   "metadata": {},
   "outputs": [
    {
     "name": "stdout",
     "output_type": "stream",
     "text": [
      "None\n"
     ]
    }
   ],
   "source": [
    "print(str(buildMatrix(10207648390994439)))\n"
   ]
  },
  {
   "cell_type": "code",
   "execution_count": null,
   "metadata": {},
   "outputs": [],
   "source": []
  },
  {
   "cell_type": "code",
   "execution_count": null,
   "metadata": {},
   "outputs": [],
   "source": []
  }
 ],
 "metadata": {
  "kernelspec": {
   "display_name": "Python 3",
   "language": "python",
   "name": "python3"
  },
  "language_info": {
   "codemirror_mode": {
    "name": "ipython",
    "version": 3
   },
   "file_extension": ".py",
   "mimetype": "text/x-python",
   "name": "python",
   "nbconvert_exporter": "python",
   "pygments_lexer": "ipython3",
   "version": "3.5.2"
  }
 },
 "nbformat": 4,
 "nbformat_minor": 2
}
