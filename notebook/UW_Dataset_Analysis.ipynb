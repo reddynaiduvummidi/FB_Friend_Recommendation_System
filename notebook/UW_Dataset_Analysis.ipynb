{
 "cells": [
  {
   "cell_type": "code",
   "execution_count": 3,
   "metadata": {
    "collapsed": true
   },
   "outputs": [],
   "source": [
    "import networkx as nx\n",
    "import matplotlib.pyplot as plt\n",
    "import operator\n",
    "import random\n",
    "import pandas as pd\n",
    "import numpy as np\n",
    "from sklearn.metrics import mean_squared_error as mse\n",
    "import itertools\n",
    "%matplotlib inline "
   ]
  },
  {
   "cell_type": "markdown",
   "metadata": {},
   "source": [
    "## Graph Creation"
   ]
  },
  {
   "cell_type": "markdown",
   "metadata": {},
   "source": [
    "Create a graph named facebook from the Facebook data in file facebook-links.txt. As noted, we use the Graph class."
   ]
  },
  {
   "cell_type": "code",
   "execution_count": 4,
   "metadata": {},
   "outputs": [],
   "source": [
    "facebook = nx.Graph()"
   ]
  },
  {
   "cell_type": "markdown",
   "metadata": {},
   "source": [
    "## Read dataset, Draw the Graph"
   ]
  },
  {
   "cell_type": "markdown",
   "metadata": {},
   "source": [
    "File facebook-links.txt contains a list of all of the user-to-user links from the Facebook New Orleans networks. \n",
    "These links are undirected on Facebook.\n",
    "\n",
    "Format: Each line contains two numeric user identifiers, \n",
    "meaning the second user appeared in the first user's friend list, \n",
    "and the first user appeared in the second user's friend list. \n",
    "Finally, the third column is a UNIX timestamp with the time of link establishment \n",
    "(if it could be determined, otherwise it is unavailable)."
   ]
  },
  {
   "cell_type": "code",
   "execution_count": 5,
   "metadata": {
    "collapsed": true
   },
   "outputs": [],
   "source": [
    "def open_source_file(filename):\n",
    "    with open (filename,\"r\") as file:\n",
    "        if filename == \"../data/facebook-links.txt\":\n",
    "            content = file.readlines()\n",
    "            for i in range(len(content)):\n",
    "                point1 = content[i].split(\"\\t\")[0]\n",
    "                if point1 not in facebook:\n",
    "                    facebook.add_node(point1)\n",
    "                point2 = content[i].split(\"\\t\")[1]\n",
    "                if point2 not in facebook:\n",
    "                    facebook.add_node(point2)\n",
    "                facebook.add_edge(point1,point2)\n",
    "        elif filename == \"../data/facebook-links.txt\":\n",
    "            result = [x.strip(\"\\n\") for x in file.readlines()]\n",
    "            for i in range(len(result)):\n",
    "                point1 = result[i].split(\" \")[0]\n",
    "                if point1 not in facebook:\n",
    "                    facebook.add_node(point1)\n",
    "                point2 = result[i].split(\" \")[1]\n",
    "                if point2 not in facebook:\n",
    "                    facebook.add_node(point2)\n",
    "                facebook.add_edge(point1,point2)\n",
    "        else:\n",
    "            print (\"Not a valid file, please check again\")"
   ]
  },
  {
   "cell_type": "code",
   "execution_count": 6,
   "metadata": {
    "collapsed": true
   },
   "outputs": [],
   "source": [
    "open_source_file(\"../data/facebook-links.txt\")"
   ]
  },
  {
   "cell_type": "markdown",
   "metadata": {},
   "source": [
    "# Exploratory data analysis"
   ]
  },
  {
   "cell_type": "markdown",
   "metadata": {},
   "source": [
    "## Graph basic information"
   ]
  },
  {
   "cell_type": "code",
   "execution_count": 7,
   "metadata": {
    "collapsed": true
   },
   "outputs": [],
   "source": [
    "def show_basic_info(graph):\n",
    "    print (nx.info(graph))"
   ]
  },
  {
   "cell_type": "code",
   "execution_count": 8,
   "metadata": {},
   "outputs": [
    {
     "name": "stdout",
     "output_type": "stream",
     "text": [
      "Name: \n",
      "Type: Graph\n",
      "Number of nodes: 63731\n",
      "Number of edges: 817090\n",
      "Average degree:  25.6418\n"
     ]
    }
   ],
   "source": [
    "show_basic_info(facebook)"
   ]
  },
  {
   "cell_type": "markdown",
   "metadata": {},
   "source": [
    "for test purposes, print only first 10 edges of facebook graph"
   ]
  },
  {
   "cell_type": "code",
   "execution_count": 9,
   "metadata": {},
   "outputs": [
    {
     "name": "stdout",
     "output_type": "stream",
     "text": [
      "['1', '2', '3', '4', '5', '6', '7', '8', '9', '10']\n"
     ]
    }
   ],
   "source": [
    "fbnodes = facebook.nodes()\n",
    "print (fbnodes[: 10])"
   ]
  },
  {
   "cell_type": "markdown",
   "metadata": {},
   "source": [
    "for test purposes, print only first 10 edges of facebook graph"
   ]
  },
  {
   "cell_type": "code",
   "execution_count": 10,
   "metadata": {
    "scrolled": true
   },
   "outputs": [
    {
     "name": "stdout",
     "output_type": "stream",
     "text": [
      "[('1', '2'), ('1', '3'), ('1', '4'), ('1', '5'), ('1', '6'), ('1', '7'), ('1', '8'), ('1', '9'), ('1', '10'), ('1', '11')]\n"
     ]
    }
   ],
   "source": [
    "fbedges = facebook.edges()\n",
    "print(fbedges[: 10])"
   ]
  },
  {
   "cell_type": "markdown",
   "metadata": {},
   "source": [
    "Transform the dataset into an adjacency matrix, shown as the dictionary format. The key is the user,shown as user_id, and corresponding values are friends, shown as user_id as well. The format is {key user_id : friend_id 1....}"
   ]
  },
  {
   "cell_type": "code",
   "execution_count": 11,
   "metadata": {},
   "outputs": [
    {
     "name": "stdout",
     "output_type": "stream",
     "text": [
      "adjacency_matrix [1] : ['2', '3', '4', '5', '6', '7', '8', '9', '10', '11', '12', '13', '14', '15', '16', '17', '18', '19', '20', '21', '22', '23', '24', '25', '26', '27']\n",
      "adjacency_matrix [2] : ['1', '1132', '3', '2053', '2054', '479', '51', '2055', '7', '9', '1645', '11', '12', '2056', '16', '17', '18', '2057', '1237', '23', '2058', '53', '2059', '2060', '1079', '2061']\n",
      "adjacency_matrix [3] : ['1', '1747', '2', '2599', '1638', '1199', '2600', '683', '1289', '2055', '6', '7', '2958', '1645', '11', '12', '2056', '1649', '309', '15', '16', '17', '18', '19', '30605', '1003', '17297', '15818', '1237', '42296', '821', '53', '4223', '2059']\n",
      "adjacency_matrix [4] : ['1', '2888', '2636', '2638', '2174', '2957', '2958', '2175', '2959', '2960']\n",
      "adjacency_matrix [5] : ['1', '813', '1636', '814', '1640', '4503', '1641', '1642', '683', '2054', '4964', '1643', '1644', '639', '2957', '4219', '2056', '687', '815', '1646', '1648', '1649', '1650', '4246', '22', '1095', '12366', '821', '469', '2548', '27', '12367', '1528']\n"
     ]
    }
   ],
   "source": [
    "adjacency_matrix = {}\n",
    "for node in nx.nodes_iter(facebook):\n",
    "    adjacency_matrix[int(node)] = [neighbor for neighbor in nx.all_neighbors(facebook,node)]   \n",
    "# print the first 10 users with their friends for testing purposes\n",
    "for i in range(5):\n",
    "    print (\"adjacency_matrix\",[i+1],\":\",adjacency_matrix[i+1])"
   ]
  },
  {
   "cell_type": "markdown",
   "metadata": {},
   "source": [
    "Construct a new dictionary, return for each user that how many friends they have in total. The key is the user,shown as user_id, and corresponding values are number of friends, shown as user_id as well. The format is {key user_id : number of friends}. And then, sort by the number of friends in descending order."
   ]
  },
  {
   "cell_type": "code",
   "execution_count": 13,
   "metadata": {
    "collapsed": true
   },
   "outputs": [],
   "source": [
    "num_of_friends = {}\n",
    "for key in adjacency_matrix:\n",
    "    num_of_friends[int(key)] = len(adjacency_matrix[key])"
   ]
  },
  {
   "cell_type": "markdown",
   "metadata": {},
   "source": [
    "Print the 10 users with most friends, with their ID and number of friends, in descending order."
   ]
  },
  {
   "cell_type": "code",
   "execution_count": 14,
   "metadata": {
    "scrolled": true
   },
   "outputs": [
    {
     "data": {
      "text/html": [
       "<div>\n",
       "<style>\n",
       "    .dataframe thead tr:only-child th {\n",
       "        text-align: right;\n",
       "    }\n",
       "\n",
       "    .dataframe thead th {\n",
       "        text-align: left;\n",
       "    }\n",
       "\n",
       "    .dataframe tbody tr th {\n",
       "        vertical-align: top;\n",
       "    }\n",
       "</style>\n",
       "<table border=\"1\" class=\"dataframe\">\n",
       "  <thead>\n",
       "    <tr style=\"text-align: right;\">\n",
       "      <th></th>\n",
       "      <th>user_id</th>\n",
       "      <th>num_of_friends</th>\n",
       "    </tr>\n",
       "  </thead>\n",
       "  <tbody>\n",
       "    <tr>\n",
       "      <th>0</th>\n",
       "      <td>2332</td>\n",
       "      <td>1098</td>\n",
       "    </tr>\n",
       "    <tr>\n",
       "      <th>1</th>\n",
       "      <td>471</td>\n",
       "      <td>932</td>\n",
       "    </tr>\n",
       "    <tr>\n",
       "      <th>2</th>\n",
       "      <td>554</td>\n",
       "      <td>917</td>\n",
       "    </tr>\n",
       "    <tr>\n",
       "      <th>3</th>\n",
       "      <td>2322</td>\n",
       "      <td>797</td>\n",
       "    </tr>\n",
       "    <tr>\n",
       "      <th>4</th>\n",
       "      <td>451</td>\n",
       "      <td>767</td>\n",
       "    </tr>\n",
       "    <tr>\n",
       "      <th>5</th>\n",
       "      <td>23</td>\n",
       "      <td>765</td>\n",
       "    </tr>\n",
       "    <tr>\n",
       "      <th>6</th>\n",
       "      <td>2208</td>\n",
       "      <td>739</td>\n",
       "    </tr>\n",
       "    <tr>\n",
       "      <th>7</th>\n",
       "      <td>9904</td>\n",
       "      <td>722</td>\n",
       "    </tr>\n",
       "    <tr>\n",
       "      <th>8</th>\n",
       "      <td>1463</td>\n",
       "      <td>622</td>\n",
       "    </tr>\n",
       "    <tr>\n",
       "      <th>9</th>\n",
       "      <td>3943</td>\n",
       "      <td>619</td>\n",
       "    </tr>\n",
       "  </tbody>\n",
       "</table>\n",
       "</div>"
      ],
      "text/plain": [
       "   user_id  num_of_friends\n",
       "0     2332            1098\n",
       "1      471             932\n",
       "2      554             917\n",
       "3     2322             797\n",
       "4      451             767\n",
       "5       23             765\n",
       "6     2208             739\n",
       "7     9904             722\n",
       "8     1463             622\n",
       "9     3943             619"
      ]
     },
     "execution_count": 14,
     "metadata": {},
     "output_type": "execute_result"
    }
   ],
   "source": [
    "updat_num_of_friends = sorted(num_of_friends.items(), key=lambda x: (-x[1], x[0]))\n",
    "friends_num = pd.DataFrame(data=updat_num_of_friends)\n",
    "friends_num.columns = ['user_id','num_of_friends']\n",
    "friends_num.head(n = 10)"
   ]
  },
  {
   "cell_type": "markdown",
   "metadata": {},
   "source": [
    "Print the 10 users with least friends, with their ID and number of friennds. Since they have the same number of friends, we will disaply in the order of user_id, in ascending order. "
   ]
  },
  {
   "cell_type": "code",
   "execution_count": 25,
   "metadata": {},
   "outputs": [
    {
     "data": {
      "text/html": [
       "<div>\n",
       "<style>\n",
       "    .dataframe thead tr:only-child th {\n",
       "        text-align: right;\n",
       "    }\n",
       "\n",
       "    .dataframe thead th {\n",
       "        text-align: left;\n",
       "    }\n",
       "\n",
       "    .dataframe tbody tr th {\n",
       "        vertical-align: top;\n",
       "    }\n",
       "</style>\n",
       "<table border=\"1\" class=\"dataframe\">\n",
       "  <thead>\n",
       "    <tr style=\"text-align: right;\">\n",
       "      <th></th>\n",
       "      <th>user_id</th>\n",
       "      <th>num_of_friends</th>\n",
       "    </tr>\n",
       "  </thead>\n",
       "  <tbody>\n",
       "    <tr>\n",
       "      <th>63721</th>\n",
       "      <td>63722</td>\n",
       "      <td>1</td>\n",
       "    </tr>\n",
       "    <tr>\n",
       "      <th>63722</th>\n",
       "      <td>63723</td>\n",
       "      <td>1</td>\n",
       "    </tr>\n",
       "    <tr>\n",
       "      <th>63723</th>\n",
       "      <td>63724</td>\n",
       "      <td>1</td>\n",
       "    </tr>\n",
       "    <tr>\n",
       "      <th>63724</th>\n",
       "      <td>63725</td>\n",
       "      <td>1</td>\n",
       "    </tr>\n",
       "    <tr>\n",
       "      <th>63725</th>\n",
       "      <td>63726</td>\n",
       "      <td>1</td>\n",
       "    </tr>\n",
       "    <tr>\n",
       "      <th>63726</th>\n",
       "      <td>63727</td>\n",
       "      <td>1</td>\n",
       "    </tr>\n",
       "    <tr>\n",
       "      <th>63727</th>\n",
       "      <td>63728</td>\n",
       "      <td>1</td>\n",
       "    </tr>\n",
       "    <tr>\n",
       "      <th>63728</th>\n",
       "      <td>63729</td>\n",
       "      <td>1</td>\n",
       "    </tr>\n",
       "    <tr>\n",
       "      <th>63729</th>\n",
       "      <td>63730</td>\n",
       "      <td>1</td>\n",
       "    </tr>\n",
       "    <tr>\n",
       "      <th>63730</th>\n",
       "      <td>63731</td>\n",
       "      <td>1</td>\n",
       "    </tr>\n",
       "  </tbody>\n",
       "</table>\n",
       "</div>"
      ],
      "text/plain": [
       "       user_id  num_of_friends\n",
       "63721    63722               1\n",
       "63722    63723               1\n",
       "63723    63724               1\n",
       "63724    63725               1\n",
       "63725    63726               1\n",
       "63726    63727               1\n",
       "63727    63728               1\n",
       "63728    63729               1\n",
       "63729    63730               1\n",
       "63730    63731               1"
      ]
     },
     "execution_count": 25,
     "metadata": {},
     "output_type": "execute_result"
    }
   ],
   "source": [
    "friends_num.tail(n = 10)"
   ]
  },
  {
   "cell_type": "markdown",
   "metadata": {},
   "source": [
    "Get stats on number of friends per user"
   ]
  },
  {
   "cell_type": "code",
   "execution_count": 14,
   "metadata": {},
   "outputs": [
    {
     "data": {
      "text/plain": [
       "count    63731.000000\n",
       "mean        25.641838\n",
       "std         39.997157\n",
       "min          1.000000\n",
       "25%          3.000000\n",
       "50%         10.000000\n",
       "75%         31.000000\n",
       "max       1098.000000\n",
       "Name: num_of_friends, dtype: float64"
      ]
     },
     "execution_count": 14,
     "metadata": {},
     "output_type": "execute_result"
    }
   ],
   "source": [
    "friends_num['num_of_friends'].describe()"
   ]
  },
  {
   "cell_type": "markdown",
   "metadata": {},
   "source": [
    "## Graph plot"
   ]
  },
  {
   "cell_type": "code",
   "execution_count": 147,
   "metadata": {},
   "outputs": [
    {
     "data": {
      "image/png": "[encoded data removed]",
      "text/plain": [
       "<matplotlib.figure.Figure at 0x28be1c222e8>"
      ]
     },
     "metadata": {},
     "output_type": "display_data"
    }
   ],
   "source": [
    "test_graph  = nx.Graph()\n",
    "test_node1 = []\n",
    "for i in range(10):\n",
    "    friend_chosen = random.choice(facebook.nodes())\n",
    "    if friend_chosen not in test_node1:\n",
    "        test_node1.append(friend_chosen)\n",
    "\n",
    "for node in test_node1:\n",
    "    for node_node in nx.all_neighbors(facebook,node):\n",
    "        test_graph.add_node(node_node)\n",
    "        test_graph.add_edge(node,node_node)\n",
    "color_map = []\n",
    "for node in test_graph:\n",
    "    if node in test_node1:\n",
    "        color_map.append('red')\n",
    "    else: color_map.append('green')\n",
    "pos=nx.spring_layout(test_graph)\n",
    "nx.draw_networkx(test_graph,node_color = color_map,pos = pos,linewidths = 0.5)\n",
    "# remove the x anf y axis on the graph\n",
    "limits=plt.axis('off')\n",
    "plt.show()"
   ]
  },
  {
   "cell_type": "markdown",
   "metadata": {},
   "source": [
    "## Calculate the sparisty of dataset"
   ]
  },
  {
   "cell_type": "code",
   "execution_count": 141,
   "metadata": {},
   "outputs": [
    {
     "name": "stdout",
     "output_type": "stream",
     "text": [
      "63731\n"
     ]
    },
    {
     "ename": "MemoryError",
     "evalue": "",
     "output_type": "error",
     "traceback": [
      "\u001b[1;31m---------------------------------------------------------------------------\u001b[0m",
      "\u001b[1;31mMemoryError\u001b[0m                               Traceback (most recent call last)",
      "\u001b[1;32m<ipython-input-141-960ca5cee094>\u001b[0m in \u001b[0;36m<module>\u001b[1;34m()\u001b[0m\n\u001b[0;32m      2\u001b[0m \u001b[1;33m\u001b[0m\u001b[0m\n\u001b[0;32m      3\u001b[0m \u001b[0mprint\u001b[0m \u001b[1;33m(\u001b[0m\u001b[0mnum_users\u001b[0m\u001b[1;33m)\u001b[0m\u001b[1;33m\u001b[0m\u001b[0m\n\u001b[1;32m----> 4\u001b[1;33m \u001b[0mutility\u001b[0m \u001b[1;33m=\u001b[0m \u001b[0mnp\u001b[0m\u001b[1;33m.\u001b[0m\u001b[0mzeros\u001b[0m\u001b[1;33m(\u001b[0m\u001b[1;33m(\u001b[0m\u001b[0mnum_users\u001b[0m\u001b[1;33m,\u001b[0m \u001b[0mnum_users\u001b[0m\u001b[1;33m)\u001b[0m\u001b[1;33m)\u001b[0m\u001b[1;33m\u001b[0m\u001b[0m\n\u001b[0m\u001b[0;32m      5\u001b[0m \u001b[1;32mfor\u001b[0m \u001b[0muser_id\u001b[0m\u001b[1;33m,\u001b[0m \u001b[0muser_friend_ids\u001b[0m \u001b[1;32min\u001b[0m \u001b[0madjacency_matrix\u001b[0m\u001b[1;33m.\u001b[0m\u001b[0mitems\u001b[0m\u001b[1;33m(\u001b[0m\u001b[1;33m)\u001b[0m\u001b[1;33m:\u001b[0m\u001b[1;33m\u001b[0m\u001b[0m\n\u001b[0;32m      6\u001b[0m     \u001b[1;32mfor\u001b[0m \u001b[0mx\u001b[0m \u001b[1;32min\u001b[0m \u001b[0muser_friend_ids\u001b[0m\u001b[1;33m:\u001b[0m\u001b[1;33m\u001b[0m\u001b[0m\n",
      "\u001b[1;31mMemoryError\u001b[0m: "
     ]
    }
   ],
   "source": [
    "num_users = len(adjacency_matrix)\n",
    "\n",
    "print (num_users)\n",
    "utility = np.zeros((num_users, num_users))\n",
    "for user_id, user_friend_ids in adjacency_matrix.items():\n",
    "    for x in user_friend_ids:\n",
    "        utility[(int)(user_id) - 1, (int)(x) - 1] = 1\n",
    "        \n",
    "sparsity = float(len(utility.nonzero()[0]))\n",
    "sparsity /= (utility.shape[0] * utility.shape[1])\n",
    "sparsity *= 100\n",
    "print('Sparsity: {:.2f}%'.format(sparsity))"
   ]
  },
  {
   "cell_type": "markdown",
   "metadata": {},
   "source": [
    "## Evaluation via Mean Squared Error (MSE)"
   ]
  },
  {
   "cell_type": "code",
   "execution_count": 11,
   "metadata": {
    "collapsed": true
   },
   "outputs": [],
   "source": [
    "def mse_utility(u1, u2):\n",
    "    return mse(u1[u1.nonzero()].flatten(), u2[u2.nonzero()].flatten())\n",
    "\n",
    "# u1 = np.array([[2, 0, 0, 4, 4], [5, 5, 5, 3, 3], [2, 4, 2, 1, 2]])\n",
    "# u2 = np.array([[3, 0, 0, 4, 4], [5, 5, 5, 3, 3], [2, 4, 2, 1, 7]])\n",
    "\n",
    "# print(\"{:.4f}\".format(mse_utility(u1, u2)))"
   ]
  },
  {
   "cell_type": "markdown",
   "metadata": {},
   "source": [
    "## Similarity via Cosine Distance"
   ]
  },
  {
   "cell_type": "code",
   "execution_count": 12,
   "metadata": {
    "collapsed": true
   },
   "outputs": [],
   "source": [
    "def cosine_sim(v1, v2):\n",
    "    numerator = sum([x * y for x, y in zip(v1, v2)])\n",
    "    denominator = np.sqrt(sum([x ** 2 for x in v1])) * np.sqrt(sum([x ** 2 for x in v2]))\n",
    "    return numerator / denominator"
   ]
  },
  {
   "cell_type": "code",
   "execution_count": 13,
   "metadata": {
    "collapsed": true
   },
   "outputs": [],
   "source": [
    "def sim_matrix(u, eps=1.0e-9):\n",
    "    step1 = u.dot(u.T) + eps\n",
    "    step2 = np.array([np.sqrt(np.diagonal(step1))])\n",
    "    return (step1 / step2 / step2.T)"
   ]
  },
  {
   "cell_type": "code",
   "execution_count": 14,
   "metadata": {},
   "outputs": [
    {
     "name": "stdout",
     "output_type": "stream",
     "text": [
      "10 loops, best of 3: 12 ms per loop\n"
     ]
    }
   ],
   "source": [
    "%timeit -n 10 -r 3 sim_matrix(utility[:50,:])"
   ]
  },
  {
   "cell_type": "code",
   "execution_count": 15,
   "metadata": {},
   "outputs": [
    {
     "name": "stdout",
     "output_type": "stream",
     "text": [
      "[[  1.00000000e+00   5.58156306e-01   5.91312396e-01 ...,   7.41249317e-02\n",
      "    1.96116135e-10   2.77350098e-01]\n",
      " [  5.58156306e-01   1.00000000e+00   6.67423813e-01 ...,   1.19522861e-01\n",
      "    3.16227766e-10   2.23606798e-01]\n",
      " [  5.91312396e-01   6.67423813e-01   1.00000000e+00 ...,   1.13960576e-10\n",
      "    3.01511344e-10   2.13200717e-01]\n",
      " ..., \n",
      " [  7.41249317e-02   1.19522861e-01   1.13960576e-10 ...,   1.00000000e+00\n",
      "    3.77964473e-01   2.67261242e-10]\n",
      " [  1.96116135e-10   3.16227766e-10   3.01511344e-10 ...,   3.77964473e-01\n",
      "    1.00000000e+00   7.07106781e-10]\n",
      " [  2.77350098e-01   2.23606798e-01   2.13200717e-01 ...,   2.67261242e-10\n",
      "    7.07106781e-10   1.00000000e+00]]\n"
     ]
    }
   ],
   "source": [
    "def sim_users(u):\n",
    "    return sim_matrix(u)\n",
    "\n",
    "print(sim_users(utility[:50,:50]))"
   ]
  },
  {
   "cell_type": "markdown",
   "metadata": {},
   "source": [
    "## K-Neighborhood"
   ]
  },
  {
   "cell_type": "code",
   "execution_count": 16,
   "metadata": {
    "collapsed": true
   },
   "outputs": [],
   "source": [
    "def top_k(arr, self_idx, k):\n",
    "    val_index = { v:key for key, v in enumerate(arr) }\n",
    "    top_k_val = sorted(val_index.keys())[::-1]\n",
    "    i = 0\n",
    "    res = {}\n",
    "    while i < k:\n",
    "        if val_index[top_k_val[i]] == self_idx:\n",
    "            i += 1\n",
    "            k += 1\n",
    "            continue\n",
    "        res[val_index[top_k_val[i]]] = top_k_val[i]\n",
    "        i += 1\n",
    "    return res"
   ]
  },
  {
   "cell_type": "markdown",
   "metadata": {},
   "source": [
    "## Recommend via Similar Users"
   ]
  },
  {
   "cell_type": "code",
   "execution_count": null,
   "metadata": {
    "collapsed": true
   },
   "outputs": [],
   "source": [
    "def rec_via_users(m_utility, m_sim_users, user_idx, frd_idx, k):\n",
    "    items = m_utility[:, frd_idx]\n",
    "    i_sim = top_k(m_sim_users[:, user_idx], user_idx, k)\n",
    "    non_zero_index = [i for i in i_sim if items[i] != 0]\n",
    "    if sum([i_sim[i] for i in non_zero_index]) == 0:\n",
    "        return 0\n",
    "    return sum([i_sim[i] * items[i] for i in non_zero_index]) / sum([i_sim[i] for i in non_zero_index])"
   ]
  },
  {
   "cell_type": "markdown",
   "metadata": {},
   "source": [
    "## Evaluation"
   ]
  },
  {
   "cell_type": "code",
   "execution_count": null,
   "metadata": {
    "collapsed": true
   },
   "outputs": [],
   "source": [
    "random.seed(12345)\n",
    "\n",
    "def recs_via_users(m_utility, m_sim_users, k, test_n):\n",
    "    test = random.sample(range(m_sim_users.shape[0]), test_n)\n",
    "    true = []\n",
    "    pred = []\n",
    "    for user_idx in test:\n",
    "        for item_idx in range(m_utility.shape[1]):\n",
    "            if m_utility[user_idx][item_idx] != 0:\n",
    "                true.append(m_utility[user_idx][item_idx])\n",
    "                \n",
    "                p = round(rec_via_users(m_utility, m_sim_users, user_idx, item_idx, k))\n",
    "                if p != 0:    \n",
    "                    pred.append(p)\n",
    "                else:\n",
    "                    pred.append(1.0e-9)\n",
    "                        \n",
    "\n",
    "    return mse_utility(np.array([true], dtype=np.float64), np.array([pred], dtype=np.float64))\n",
    "    \n",
    "similarity_users = sim_users(utility)\n",
    "\n",
    "ks = []\n",
    "mses = []\n",
    "for i in range(50):\n",
    "    ks.append(i+1)\n",
    "    mses.append(recs_via_users(utility, similarity_users, i+1, 100))\n",
    "    print(\"{}/50\".format(i+1), mses[-1])"
   ]
  },
  {
   "cell_type": "code",
   "execution_count": null,
   "metadata": {
    "collapsed": true
   },
   "outputs": [],
   "source": [
    "friends_num = pd.DataFrame(data=updat_num_of_friends)\n",
    "friends_num.columns = ['number of friends', 'user_id']\n",
    "friends_num.head()"
   ]
  },
  {
   "cell_type": "markdown",
   "metadata": {},
   "source": [
    "## friends set "
   ]
  },
  {
   "cell_type": "markdown",
   "metadata": {},
   "source": [
    "Returns a set of the friends of the given user, in the given graph.\n",
    "The parameter 'user' is the string name of a person in the graph."
   ]
  },
  {
   "cell_type": "code",
   "execution_count": null,
   "metadata": {
    "collapsed": true
   },
   "outputs": [],
   "source": [
    "def friends(graph, user):\n",
    "    return set(graph.neighbors(user))"
   ]
  },
  {
   "cell_type": "markdown",
   "metadata": {},
   "source": [
    "## friends of friends set"
   ]
  },
  {
   "cell_type": "markdown",
   "metadata": {},
   "source": [
    "Returns a set of friends of friends of the given user, in the given graph.\n",
    "The result does not include the given user nor any of that user's friends."
   ]
  },
  {
   "cell_type": "code",
   "execution_count": null,
   "metadata": {
    "collapsed": true
   },
   "outputs": [],
   "source": [
    "def friends_of_friends(graph, user):\n",
    "    f_list = set()\n",
    "    friend_list = friends(graph,user)\n",
    "    for friend in friend_list:\n",
    "        f_list.update(set(friends(graph,friend)))\n",
    "    for friend in friend_list:\n",
    "        f_list.discard(friend)\n",
    "    f_list.remove(user)\n",
    "    return f_list"
   ]
  },
  {
   "cell_type": "markdown",
   "metadata": {},
   "source": [
    "## Common friends between two users"
   ]
  },
  {
   "cell_type": "markdown",
   "metadata": {},
   "source": [
    "Returns the set of friends that user1 and user2 have in common."
   ]
  },
  {
   "cell_type": "code",
   "execution_count": null,
   "metadata": {
    "collapsed": true
   },
   "outputs": [],
   "source": [
    "def common_friends(graph, user1, user2):\n",
    "    friend_set_1 = friends(graph,user1)\n",
    "    friend_set_2 = friends(graph,user2)\n",
    "    return (friend_set_1 & friend_set_2)"
   ]
  },
  {
   "cell_type": "markdown",
   "metadata": {},
   "source": [
    "Returns a map from each user U to the number of friends U has in common with the given user.\n",
    "    The map keys are the users who have at least one friend in common with the\n",
    "    given user, and are neither the given user nor one of the given user's friends.\n",
    "    Take a graph G for example:\n",
    "        - A and B have two friends in common\n",
    "        - A and C have one friend in common\n",
    "        - A and D have one friend in common\n",
    "        - A and E have no friends in common\n",
    "        - A is friends with D\n",
    "    number_of_common_friends_map(G, \"A\")  =>   { 'B':2, 'C':1 }"
   ]
  },
  {
   "cell_type": "code",
   "execution_count": null,
   "metadata": {
    "collapsed": true
   },
   "outputs": [],
   "source": [
    "def number_of_common_friends_map(graph, user):\n",
    "    number_common = { str(friend) : len(common_friends(graph,str(friend),user)) for friend in friends_of_friends(graph,user) }\n",
    "    return number_common"
   ]
  },
  {
   "cell_type": "markdown",
   "metadata": {},
   "source": [
    "## Key list"
   ]
  },
  {
   "cell_type": "markdown",
   "metadata": {},
   "source": [
    "Given a map whose values are numbers, return a list of the keys. The keys are sorted by the number they map to, from greatest to least. When two keys map to the same number, the keys are sorted by their natural sort order, from least to greatest."
   ]
  },
  {
   "cell_type": "code",
   "execution_count": null,
   "metadata": {
    "collapsed": true
   },
   "outputs": [],
   "source": [
    "def number_map_to_sorted_list(map):\n",
    "    res = sorted(map.items(), key=lambda x: (-x[1], x[0]))\n",
    "    numbers = [item[0] for item in res]\n",
    "    return numbers"
   ]
  },
  {
   "cell_type": "markdown",
   "metadata": {},
   "source": [
    "## Recommend  by number of common friends"
   ]
  },
  {
   "cell_type": "markdown",
   "metadata": {},
   "source": [
    "Return a list of friend recommendations for the given user.The friend recommendation list consists of names of people in the graph who are not yet a friend of the given user.The order of the list is determined by the number of common friends."
   ]
  },
  {
   "cell_type": "code",
   "execution_count": null,
   "metadata": {
    "collapsed": true
   },
   "outputs": [],
   "source": [
    "def recommend_by_number_of_common_friends(graph, user):\n",
    "    common_friends = number_of_common_friends_map(graph,user)\n",
    "    return number_map_to_sorted_list(common_friends)"
   ]
  },
  {
   "cell_type": "markdown",
   "metadata": {},
   "source": [
    "## Influence scoring"
   ]
  },
  {
   "cell_type": "markdown",
   "metadata": {},
   "source": [
    "Returns a map from each user U to the friend influence, with respect to the given user. The map only contains users who have at least one friend in common with U, and are neither U nor one of U's friends."
   ]
  },
  {
   "cell_type": "markdown",
   "metadata": {},
   "source": [
    "\"Influence scoring\": the score for user2 as a friend of user1 is: 1/numfriends(f1) + 1/numfriends(f2) + 1/numfriends(f3), where numfriends(f) is the number of friends that f has. In other words, each friend F of user1 has a total influence score of 1 to contribute, and divides it equally among all of F's friends."
   ]
  },
  {
   "cell_type": "code",
   "execution_count": null,
   "metadata": {
    "collapsed": true
   },
   "outputs": [],
   "source": [
    "def influence_map(graph, user):\n",
    "    fre_of_fre = friends_of_friends(graph,user)\n",
    "    com_fre = { str(friend) : common_friends(graph,friend,user) for  friend in fre_of_fre}\n",
    "    influence = { str(friend) : sum([1/len(friends(graph,item)) for item in common_friend]) for friend, common_friend in com_fre.items() }\n",
    "    return influence"
   ]
  },
  {
   "cell_type": "markdown",
   "metadata": {},
   "source": [
    "## Recommend by influence"
   ]
  },
  {
   "cell_type": "markdown",
   "metadata": {},
   "source": [
    "Return a list of friend recommendations for the given user. The friend recommendation list consists of names of people in the graph who are not yet a friend of the given user. The order of the list is determined by the influence measurement."
   ]
  },
  {
   "cell_type": "code",
   "execution_count": null,
   "metadata": {
    "collapsed": true
   },
   "outputs": [],
   "source": [
    "def recommend_by_influence(graph, user):\n",
    "    friends_influence = influence_map(graph,user)\n",
    "    res = number_map_to_sorted_list(friends_influence)\n",
    "    return res"
   ]
  },
  {
   "cell_type": "markdown",
   "metadata": {},
   "source": [
    "For every Facebook user with an id that is a multiple of 100, \n",
    "print a list containing the first 10 friend recommendations, \n",
    "as determined by number of common friends. \n",
    "If there are fewer than 10 recommendations, \n",
    "print all the recommendations."
   ]
  },
  {
   "cell_type": "code",
   "execution_count": null,
   "metadata": {
    "collapsed": true
   },
   "outputs": [],
   "source": [
    "rec_num_of_friends = []\n",
    "for i in range(len(facebook.nodes())):\n",
    "    if ((i%100 == 0) and (str(i) in facebook)):\n",
    "        rec_num_of_friends.append(recommend_by_number_of_common_friends(facebook,str(i))[:10])"
   ]
  },
  {
   "cell_type": "code",
   "execution_count": null,
   "metadata": {
    "collapsed": true
   },
   "outputs": [],
   "source": [
    "rec_num_of_friends"
   ]
  },
  {
   "cell_type": "markdown",
   "metadata": {},
   "source": [
    "For every Facebook user with an id that is a multiple of 1000, \n",
    "print a list containing the first 10 friend recommendations, \n",
    "as determined by influence score. \n",
    "If there are fewer than 10 recommendations, \n",
    "print all the recommendations."
   ]
  },
  {
   "cell_type": "code",
   "execution_count": null,
   "metadata": {
    "collapsed": true
   },
   "outputs": [],
   "source": [
    "rec_influence = []\n",
    "for i in range(len(facebook.nodes())):\n",
    "    if ((i%1000 == 0) and (str(i) in facebook)):\n",
    "        rec_influence.append(recommend_by_influence(facebook,str(i))[:10])"
   ]
  },
  {
   "cell_type": "code",
   "execution_count": null,
   "metadata": {
    "collapsed": true
   },
   "outputs": [],
   "source": [
    "rec_influence"
   ]
  },
  {
   "cell_type": "markdown",
   "metadata": {},
   "source": [
    "Present the average index for each recommendation system. \n",
    "State which recommendation system is better for the facebook graph."
   ]
  },
  {
   "cell_type": "markdown",
   "metadata": {},
   "source": [
    "## Evaluation"
   ]
  },
  {
   "cell_type": "code",
   "execution_count": null,
   "metadata": {
    "collapsed": true
   },
   "outputs": [],
   "source": [
    "def evaluate_recommendation(graph):\n",
    "    number_index = []\n",
    "    influence_index = []\n",
    "\n",
    "    for i in range(100):\n",
    "        # 1. Randomly choose a real friend connection; call the two friends F1 and F2.\n",
    "        friendship_chosen = random.choice(graph.edges())\n",
    "        friend1 = friendship_chosen[0]\n",
    "        friend2 = friendship_chosen[1]\n",
    "\n",
    "        # 2. Remove their friendship from the graph.\n",
    "        graph.remove_edge(friend1,friend2)\n",
    "\n",
    "        '''\n",
    "        3. Compute friend recommendations for F1 and F2.\n",
    "        4. Determine the rank of F1 in F2's list of recommended friends.\n",
    "            Determine the rank of F2 in F1's list of recommended friends.\n",
    "            If either of these does not exist (e.g., F1 is not recommended as one of F2's friends), discard the F1-F2 pair from your experiment.\n",
    "            Otherwise, average these two numbers.\n",
    "            The \"rank\" is also known as the \"index\" or \"position\". It starts counting at 1, not 0.\n",
    "        '''\n",
    "        if ((len(graph.neighbors(friend1)) == 0) or (len(graph.neighbors(friend2)) == 0)):\n",
    "            pass\n",
    "        else:\n",
    "            f1_rec_number = recommend_by_number_of_common_friends(graph,friend1)\n",
    "            f2_rec_number = recommend_by_number_of_common_friends(graph,friend2)\n",
    "        \n",
    "            f1_rec_influence = recommend_by_influence(graph,friend1)\n",
    "            f2_rec_influence = recommend_by_influence(graph,friend2)\n",
    "\n",
    "            if ((friend2 not in f1_rec_number) or (friend1 not in f2_rec_number) or (friend2 not in f1_rec_influence) or (friend1 not in f2_rec_influence)):\n",
    "                pass\n",
    "            else:\n",
    "                # recommend friend by the number of common friends\n",
    "                index_number_f1= f1_rec_number.index(friend2) + 1\n",
    "                number_index.append(index_number_f1)\n",
    "\n",
    "                index_number_f2= f2_rec_number.index(friend1) + 1\n",
    "                number_index.append(index_number_f2)\n",
    "               \n",
    "                # recommend friend by friends' influence\n",
    "                index_influence_f1 = f1_rec_influence.index(friend2) + 1\n",
    "                influence_index.append(index_influence_f1)\n",
    "\n",
    "                index_influence_f2 = f2_rec_influence.index(friend1) + 1\n",
    "                influence_index.append(index_influence_f2)\n",
    "\n",
    "        #5. Put their friendship back in the graph.\n",
    "        graph.add_edge(friend1,friend2)\n",
    "            \n",
    "    sum_influence_index = sum([influence_index[i] for i in range(len(influence_index))])\n",
    "    avg_influence = sum_influence_index / len(influence_index)\n",
    "    print(\"Average rank of influence method:\", avg_influence)\n",
    "\n",
    "    # calculate the average of number of common friends\n",
    "    # calculate the average of number of common friends\n",
    "    sum_number_index = sum([number_index[i] for i in range(len(number_index))])\n",
    "    avg_number = sum_number_index/len(number_index)  \n",
    "    print (\"Average rank of number of friends in common method:\", avg_number)\n",
    "\n",
    "    # compare two methods\n",
    "    if (avg_influence < avg_number):\n",
    "        print (\"recommend by influence is better\")\n",
    "    else:\n",
    "        print (\"recommend by number of friends in common method is better\")"
   ]
  },
  {
   "cell_type": "code",
   "execution_count": null,
   "metadata": {
    "collapsed": true
   },
   "outputs": [],
   "source": [
    "evaluate_recommendation(facebook)"
   ]
  }
 ],
 "metadata": {
  "kernelspec": {
   "display_name": "Python 3",
   "language": "python",
   "name": "python3"
  }
 },
 "nbformat": 4,
 "nbformat_minor": 2
}
