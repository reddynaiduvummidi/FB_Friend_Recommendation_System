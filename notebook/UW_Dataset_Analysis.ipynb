{
 "cells": [
  {
   "cell_type": "markdown",
   "metadata": {},
   "source": [
    "## Imports"
   ]
  },
  {
   "cell_type": "code",
   "execution_count": 3,
   "metadata": {},
   "outputs": [],
   "source": [
    "import networkx as nx\n",
    "import matplotlib.pyplot as plt\n",
    "import operator\n",
    "import random\n",
    "import pandas as pd\n",
    "import numpy as np\n",
    "from sklearn.metrics import mean_squared_error as mse\n",
    "import itertools\n",
    "\n",
    "%matplotlib inline "
   ]
  },
  {
   "cell_type": "markdown",
   "metadata": {},
   "source": [
    "## Graph Creation"
   ]
  },
  {
   "cell_type": "markdown",
   "metadata": {},
   "source": [
    "Create a graph named facebook from the Facebook data in file facebook-links.txt. As noted, we use the Graph class."
   ]
  },
  {
   "cell_type": "code",
   "execution_count": 4,
   "metadata": {
    "collapsed": true
   },
   "outputs": [],
   "source": [
    "facebook = nx.Graph()"
   ]
  },
  {
   "cell_type": "markdown",
   "metadata": {},
   "source": [
    "## Read dataset, Draw the Graph"
   ]
  },
  {
   "cell_type": "markdown",
   "metadata": {},
   "source": [
    "File facebook-links.txt contains a list of all of the user-to-user links from the Facebook New Orleans networks. \n",
    "These links are undirected on Facebook.\n",
    "\n",
    "Format: Each line contains two numeric user identifiers, \n",
    "meaning the second user appeared in the first user's friend list, \n",
    "and the first user appeared in the second user's friend list. \n",
    "Finally, the third column is a UNIX timestamp with the time of link establishment \n",
    "(if it could be determined, otherwise it is unavailable)."
   ]
  },
  {
   "cell_type": "code",
   "execution_count": 5,
   "metadata": {
    "collapsed": true
   },
   "outputs": [],
   "source": [
    "def open_source_file(filename):\n",
    "    with open (filename,\"r\") as file:\n",
    "        if filename == \"../data/facebook-links.txt\":\n",
    "            content = file.readlines()\n",
    "            for i in range(len(content)):\n",
    "                point1 = content[i].split(\"\\t\")[0]\n",
    "                if point1 not in facebook:\n",
    "                    facebook.add_node(point1)\n",
    "                point2 = content[i].split(\"\\t\")[1]\n",
    "                if point2 not in facebook:\n",
    "                    facebook.add_node(point2)\n",
    "                facebook.add_edge(point1,point2)\n",
    "        elif filename == \"../data/facebook-links.txt\":\n",
    "            result = [x.strip(\"\\n\") for x in file.readlines()]\n",
    "            for i in range(len(result)):\n",
    "                point1 = result[i].split(\" \")[0]\n",
    "                if point1 not in facebook:\n",
    "                    facebook.add_node(point1)\n",
    "                point2 = result[i].split(\" \")[1]\n",
    "                if point2 not in facebook:\n",
    "                    facebook.add_node(point2)\n",
    "                facebook.add_edge(point1,point2)\n",
    "        else:\n",
    "            print (\"Not a valid file, please check again\")"
   ]
  },
  {
   "cell_type": "code",
   "execution_count": 6,
   "metadata": {
    "collapsed": true
   },
   "outputs": [],
   "source": [
    "open_source_file(\"../data/facebook-links.txt\")"
   ]
  },
  {
   "cell_type": "markdown",
   "metadata": {},
   "source": [
    "Print only first 10 edges of facebook graph"
   ]
  },
  {
   "cell_type": "code",
   "execution_count": 7,
   "metadata": {},
   "outputs": [
    {
     "name": "stdout",
     "output_type": "stream",
     "text": [
      "['1', '2', '3', '4', '5', '6', '7', '8', '9', '10']\n"
     ]
    }
   ],
   "source": [
    "fbnodes = facebook.nodes()\n",
    "print (fbnodes[: 10])"
   ]
  },
  {
   "cell_type": "markdown",
   "metadata": {},
   "source": [
    "Print only first 10 edges of facebook graph"
   ]
  },
  {
   "cell_type": "code",
   "execution_count": 8,
   "metadata": {
    "scrolled": true
   },
   "outputs": [
    {
     "name": "stdout",
     "output_type": "stream",
     "text": [
      "[('1', '2'), ('1', '3'), ('1', '4'), ('1', '5'), ('1', '6'), ('1', '7'), ('1', '8'), ('1', '9'), ('1', '10'), ('1', '11')]\n"
     ]
    }
   ],
   "source": [
    "fbedges = facebook.edges()\n",
    "print(fbedges[: 10])"
   ]
  },
  {
   "cell_type": "code",
   "execution_count": 9,
   "metadata": {
    "collapsed": true
   },
   "outputs": [],
   "source": [
    "def show_basic_info(graph):\n",
    "    print (nx.info(graph))"
   ]
  },
  {
   "cell_type": "code",
   "execution_count": 10,
   "metadata": {
    "scrolled": true
   },
   "outputs": [
    {
     "name": "stdout",
     "output_type": "stream",
     "text": [
      "Original Dataset\n",
      "Name: \n",
      "Type: Graph\n",
      "Number of nodes: 63731\n",
      "Number of edges: 817090\n",
      "Average degree:  25.6418\n"
     ]
    }
   ],
   "source": [
    "print (\"Original Dataset\")\n",
    "show_basic_info(facebook)"
   ]
  },
  {
   "cell_type": "markdown",
   "metadata": {},
   "source": [
    "# Data Cleaning "
   ]
  },
  {
   "cell_type": "markdown",
   "metadata": {},
   "source": [
    "## Remove the user only have one friend"
   ]
  },
  {
   "cell_type": "markdown",
   "metadata": {},
   "source": [
    "We noticed that in the facebook graph, there are around 8000 nodes that only have one edges, which means they only have one friend in the whole network connection. It is possible that they are fake users/people don't use facebook too often. Furthermore, they bring some trouble if we want to manually remove some friends connections in the evaluation part. So we removed those nodes as well as their edges for the ease of future evaluation."
   ]
  },
  {
   "cell_type": "code",
   "execution_count": 11,
   "metadata": {
    "collapsed": true
   },
   "outputs": [],
   "source": [
    "# only do it once!!!!\n",
    "def remove_user_with_one_friend(graph):\n",
    "    edge_to_remove = {}\n",
    "    # find the user with only one friend, and store the edge connection as a dictionary format.\n",
    "    # the format of dictionary is: {user(shown in user_id): the only friend(shown in user_id)}\n",
    "    for node in nx.nodes_iter(graph):\n",
    "        if (len(graph.neighbors(node)) <= 1):\n",
    "            neighbor = graph.neighbors(node)\n",
    "            edge_to_remove[node] = neighbor[0]\n",
    "        else:\n",
    "            pass\n",
    "    \n",
    "    first10pairs = {k: edge_to_remove[k] for k in list(edge_to_remove)[:10]}\n",
    "    print (\"First 10 pairs\",first10pairs)\n",
    "        \n",
    "    for key in edge_to_remove:\n",
    "        if graph.has_edge(key,edge_to_remove[key]):\n",
    "            graph.remove_edge(key,edge_to_remove[key])\n",
    "        else:\n",
    "            pass\n",
    "        if graph.has_node(key):\n",
    "            graph.remove_node(key)\n",
    "        else:\n",
    "            pass\n",
    "    # after removing,there are some nodes that don't have edges.We simply delete those nodes as well. \n",
    "    further_node_to_remove = []\n",
    "    for node in nx.nodes_iter(graph):\n",
    "        if (len(graph.neighbors(node)) == 0):\n",
    "            further_node_to_remove.append(node)\n",
    "    print (\"After preliminary removing, further remove users with no friends\",further_node_to_remove)\n",
    "    for node in further_node_to_remove:\n",
    "        graph.remove_node(node)"
   ]
  },
  {
   "cell_type": "code",
   "execution_count": 12,
   "metadata": {},
   "outputs": [
    {
     "name": "stdout",
     "output_type": "stream",
     "text": [
      "First 10 pairs {'59': '58', '557': '555', '763': '758', '848': '559', '983': '968', '1117': '1118', '1270': '1271', '1355': '1036', '2089': '1409', '2100': '1999'}\n",
      "After preliminary removing, further remove users with no friends ['47051', '47622', '48982', '49268', '52667', '53950', '54139', '54883', '54960', '55357', '55408', '55521', '55687', '56246', '59296', '59884', '59925', '60945', '61214', '61446', '62354']\n"
     ]
    }
   ],
   "source": [
    "remove_user_with_one_friend(facebook)"
   ]
  },
  {
   "cell_type": "code",
   "execution_count": 13,
   "metadata": {},
   "outputs": [
    {
     "name": "stdout",
     "output_type": "stream",
     "text": [
      "Dataset after removing\n",
      "Name: \n",
      "Type: Graph\n",
      "Number of nodes: 55612\n",
      "Number of edges: 809100\n",
      "Average degree:  29.0980\n"
     ]
    }
   ],
   "source": [
    "print (\"Dataset after removing\")\n",
    "show_basic_info(facebook)"
   ]
  },
  {
   "cell_type": "markdown",
   "metadata": {},
   "source": [
    "# Exploratory data analysis"
   ]
  },
  {
   "cell_type": "markdown",
   "metadata": {},
   "source": [
    "## basic information"
   ]
  },
  {
   "cell_type": "markdown",
   "metadata": {},
   "source": [
    "Transform the dataset into an adjacency matrix, shown as the dictionary format. The key is the user,shown as user_id, and corresponding values are friends, shown as user_id as well. The format is {key user_id : friend_id 1....}"
   ]
  },
  {
   "cell_type": "code",
   "execution_count": 14,
   "metadata": {},
   "outputs": [
    {
     "name": "stdout",
     "output_type": "stream",
     "text": [
      "adjacency_matrix [1] : ['2', '3', '4', '5', '6', '7', '8', '9', '10', '11', '12', '13', '14', '15', '16', '17', '18', '19', '20', '21', '22', '23', '24', '25', '26', '27']\n",
      "adjacency_matrix [2] : ['1', '1132', '3', '2053', '2054', '479', '51', '2055', '7', '9', '1645', '11', '12', '2056', '16', '17', '18', '2057', '1237', '23', '2058', '53', '2059', '2060', '1079', '2061']\n",
      "adjacency_matrix [3] : ['1', '1747', '2', '2599', '1638', '1199', '2600', '683', '1289', '2055', '6', '7', '2958', '1645', '11', '12', '2056', '1649', '309', '15', '16', '17', '18', '19', '30605', '1003', '17297', '15818', '1237', '42296', '821', '53', '4223', '2059']\n",
      "adjacency_matrix [4] : ['1', '2636', '2638', '2174', '2957', '2958', '2175', '2959', '2960']\n",
      "adjacency_matrix [5] : ['1', '813', '1636', '814', '1640', '4503', '1641', '1642', '683', '2054', '4964', '1643', '1644', '639', '2957', '4219', '2056', '687', '815', '1646', '1648', '1649', '1650', '4246', '22', '1095', '12366', '821', '469', '2548', '27', '12367', '1528']\n"
     ]
    }
   ],
   "source": [
    "adjacency_matrix = {}\n",
    "for node in nx.nodes_iter(facebook):\n",
    "    adjacency_matrix[int(node)] = [neighbor for neighbor in nx.all_neighbors(facebook,node)]   \n",
    "# print the first 10 users with their friends for testing purposes\n",
    "for i in range(5):\n",
    "    print (\"adjacency_matrix\",[i+1],\":\",adjacency_matrix[i+1])"
   ]
  },
  {
   "cell_type": "markdown",
   "metadata": {},
   "source": [
    "Construct a new dictionary, return for each user that how many friends they have in total. The key is the user,shown as user_id, and corresponding values are number of friends, shown as user_id as well. The format is {key user_id : number of friends}. And then, sort by the number of friends in descending order."
   ]
  },
  {
   "cell_type": "code",
   "execution_count": 15,
   "metadata": {
    "collapsed": true
   },
   "outputs": [],
   "source": [
    "num_of_friends = {}\n",
    "for key in adjacency_matrix:\n",
    "    num_of_friends[int(key)] = len(adjacency_matrix[key])"
   ]
  },
  {
   "cell_type": "markdown",
   "metadata": {},
   "source": [
    "Print the 10 users with most friends, with their ID and number of friends, in descending order."
   ]
  },
  {
   "cell_type": "code",
   "execution_count": 16,
   "metadata": {
    "scrolled": true
   },
   "outputs": [
    {
     "data": {
      "text/html": [
       "<div>\n",
       "<style>\n",
       "    .dataframe thead tr:only-child th {\n",
       "        text-align: right;\n",
       "    }\n",
       "\n",
       "    .dataframe thead th {\n",
       "        text-align: left;\n",
       "    }\n",
       "\n",
       "    .dataframe tbody tr th {\n",
       "        vertical-align: top;\n",
       "    }\n",
       "</style>\n",
       "<table border=\"1\" class=\"dataframe\">\n",
       "  <thead>\n",
       "    <tr style=\"text-align: right;\">\n",
       "      <th></th>\n",
       "      <th>user_id</th>\n",
       "      <th>num_of_friends</th>\n",
       "    </tr>\n",
       "  </thead>\n",
       "  <tbody>\n",
       "    <tr>\n",
       "      <th>0</th>\n",
       "      <td>2332</td>\n",
       "      <td>1095</td>\n",
       "    </tr>\n",
       "    <tr>\n",
       "      <th>1</th>\n",
       "      <td>471</td>\n",
       "      <td>932</td>\n",
       "    </tr>\n",
       "    <tr>\n",
       "      <th>2</th>\n",
       "      <td>554</td>\n",
       "      <td>915</td>\n",
       "    </tr>\n",
       "    <tr>\n",
       "      <th>3</th>\n",
       "      <td>2322</td>\n",
       "      <td>797</td>\n",
       "    </tr>\n",
       "    <tr>\n",
       "      <th>4</th>\n",
       "      <td>451</td>\n",
       "      <td>766</td>\n",
       "    </tr>\n",
       "    <tr>\n",
       "      <th>5</th>\n",
       "      <td>23</td>\n",
       "      <td>763</td>\n",
       "    </tr>\n",
       "    <tr>\n",
       "      <th>6</th>\n",
       "      <td>2208</td>\n",
       "      <td>737</td>\n",
       "    </tr>\n",
       "    <tr>\n",
       "      <th>7</th>\n",
       "      <td>9904</td>\n",
       "      <td>722</td>\n",
       "    </tr>\n",
       "    <tr>\n",
       "      <th>8</th>\n",
       "      <td>1463</td>\n",
       "      <td>620</td>\n",
       "    </tr>\n",
       "    <tr>\n",
       "      <th>9</th>\n",
       "      <td>3943</td>\n",
       "      <td>619</td>\n",
       "    </tr>\n",
       "  </tbody>\n",
       "</table>\n",
       "</div>"
      ],
      "text/plain": [
       "   user_id  num_of_friends\n",
       "0     2332            1095\n",
       "1      471             932\n",
       "2      554             915\n",
       "3     2322             797\n",
       "4      451             766\n",
       "5       23             763\n",
       "6     2208             737\n",
       "7     9904             722\n",
       "8     1463             620\n",
       "9     3943             619"
      ]
     },
     "execution_count": 16,
     "metadata": {},
     "output_type": "execute_result"
    }
   ],
   "source": [
    "updat_num_of_friends = sorted(num_of_friends.items(), key=lambda x: (-x[1], x[0]))\n",
    "friends_num = pd.DataFrame(data=updat_num_of_friends)\n",
    "friends_num.columns = ['user_id','num_of_friends']\n",
    "friends_num.head(n = 10)"
   ]
  },
  {
   "cell_type": "markdown",
   "metadata": {},
   "source": [
    "Print the 10 users with least friends, with their ID and number of friennds. Since they have the same number of friends, we will disaply in the order of user_id, in ascending order. "
   ]
  },
  {
   "cell_type": "code",
   "execution_count": 17,
   "metadata": {},
   "outputs": [
    {
     "data": {
      "text/html": [
       "<div>\n",
       "<style>\n",
       "    .dataframe thead tr:only-child th {\n",
       "        text-align: right;\n",
       "    }\n",
       "\n",
       "    .dataframe thead th {\n",
       "        text-align: left;\n",
       "    }\n",
       "\n",
       "    .dataframe tbody tr th {\n",
       "        vertical-align: top;\n",
       "    }\n",
       "</style>\n",
       "<table border=\"1\" class=\"dataframe\">\n",
       "  <thead>\n",
       "    <tr style=\"text-align: right;\">\n",
       "      <th></th>\n",
       "      <th>user_id</th>\n",
       "      <th>num_of_friends</th>\n",
       "    </tr>\n",
       "  </thead>\n",
       "  <tbody>\n",
       "    <tr>\n",
       "      <th>55602</th>\n",
       "      <td>63389</td>\n",
       "      <td>1</td>\n",
       "    </tr>\n",
       "    <tr>\n",
       "      <th>55603</th>\n",
       "      <td>63399</td>\n",
       "      <td>1</td>\n",
       "    </tr>\n",
       "    <tr>\n",
       "      <th>55604</th>\n",
       "      <td>63433</td>\n",
       "      <td>1</td>\n",
       "    </tr>\n",
       "    <tr>\n",
       "      <th>55605</th>\n",
       "      <td>63473</td>\n",
       "      <td>1</td>\n",
       "    </tr>\n",
       "    <tr>\n",
       "      <th>55606</th>\n",
       "      <td>63489</td>\n",
       "      <td>1</td>\n",
       "    </tr>\n",
       "    <tr>\n",
       "      <th>55607</th>\n",
       "      <td>63504</td>\n",
       "      <td>1</td>\n",
       "    </tr>\n",
       "    <tr>\n",
       "      <th>55608</th>\n",
       "      <td>63538</td>\n",
       "      <td>1</td>\n",
       "    </tr>\n",
       "    <tr>\n",
       "      <th>55609</th>\n",
       "      <td>63601</td>\n",
       "      <td>1</td>\n",
       "    </tr>\n",
       "    <tr>\n",
       "      <th>55610</th>\n",
       "      <td>63616</td>\n",
       "      <td>1</td>\n",
       "    </tr>\n",
       "    <tr>\n",
       "      <th>55611</th>\n",
       "      <td>63638</td>\n",
       "      <td>1</td>\n",
       "    </tr>\n",
       "  </tbody>\n",
       "</table>\n",
       "</div>"
      ],
      "text/plain": [
       "       user_id  num_of_friends\n",
       "55602    63389               1\n",
       "55603    63399               1\n",
       "55604    63433               1\n",
       "55605    63473               1\n",
       "55606    63489               1\n",
       "55607    63504               1\n",
       "55608    63538               1\n",
       "55609    63601               1\n",
       "55610    63616               1\n",
       "55611    63638               1"
      ]
     },
     "execution_count": 17,
     "metadata": {},
     "output_type": "execute_result"
    }
   ],
   "source": [
    "friends_num.tail(n = 10)"
   ]
  },
  {
   "cell_type": "markdown",
   "metadata": {},
   "source": [
    "Get stats on number of friends per user"
   ]
  },
  {
   "cell_type": "code",
   "execution_count": 18,
   "metadata": {},
   "outputs": [
    {
     "data": {
      "text/plain": [
       "count    55612.000000\n",
       "mean        29.098036\n",
       "std         41.595270\n",
       "min          1.000000\n",
       "25%          5.000000\n",
       "50%         14.000000\n",
       "75%         37.000000\n",
       "max       1095.000000\n",
       "Name: num_of_friends, dtype: float64"
      ]
     },
     "execution_count": 18,
     "metadata": {},
     "output_type": "execute_result"
    }
   ],
   "source": [
    "friends_num['num_of_friends'].describe()"
   ]
  },
  {
   "cell_type": "markdown",
   "metadata": {},
   "source": [
    "# Graph plot"
   ]
  },
  {
   "cell_type": "code",
   "execution_count": 22,
   "metadata": {},
   "outputs": [
    {
     "name": "stdout",
     "output_type": "stream",
     "text": [
      "the user chosen:\n",
      "['7848', '33203', '9155', '30370', '38586', '47870']\n",
      "friends corresponding to the chosen user:\n",
      "[['4578', '7820', '7823', '7825', '7826', '7827', '7828', '9566', '7831', '11919'], ['17866', '23432', '26289', '38619', '16351', '45672', '13078', '38817', '23433', '21094'], ['8521', '21379', '14312', '26276', '2274', '21937', '10632', '5565', '8121', '5594'], ['8087', '11019', '12021', '4091', '15181', '24159', '26658', '26308', '15151', '26310'], ['14582', '41334', '18258', '38594', '33961', '29750', '31794', '41341', '36076', '35666'], ['1463', '19400', '63494', '21065']]\n"
     ]
    },
    {
     "data": {
      "image/png": "[encoded data removed]",
      "text/plain": [
       "<matplotlib.figure.Figure at 0x2d1bc12c390>"
      ]
     },
     "metadata": {},
     "output_type": "display_data"
    },
    {
     "data": {
      "text/plain": [
       "<matplotlib.figure.Figure at 0x2d1c3107cc0>"
      ]
     },
     "metadata": {},
     "output_type": "display_data"
    }
   ],
   "source": [
    "test_graph = nx.Graph()\n",
    "node_chosen = ['7848', '33203', '9155', '30370', '38586', '47870']\n",
    "node_to_collect = [[],[],[],[],[],[]]\n",
    "\n",
    "for i in range(6):\n",
    "    friend_chosen = node_chosen[i]\n",
    "    test_graph.add_node(friend_chosen)\n",
    "    all_nodes = nx.all_neighbors(facebook,friend_chosen)\n",
    "    \n",
    "    for node in all_nodes:\n",
    "        node_to_collect[i].append(node)\n",
    "    node_to_collect[i] = node_to_collect[i][: 10]\n",
    "    \n",
    "    for node in node_to_collect[i]:\n",
    "        test_graph.add_node(node)\n",
    "        test_graph.add_edge(node_chosen[i],node)\n",
    "print (\"the user chosen:\")\n",
    "print (node_chosen)\n",
    "print (\"friends corresponding to the chosen user:\")\n",
    "print (node_to_collect)\n",
    "\n",
    "for i in range(5):\n",
    "    test_graph.add_edge(node_chosen[i],node_chosen[i+1])\n",
    "\n",
    "test_graph.add_edge(node_chosen[5],node_chosen[0])\n",
    "        \n",
    "color_map = []\n",
    "for node in nx.nodes_iter(test_graph):\n",
    "    if ((node in node_chosen[0]) or (node in node_to_collect[0])):\n",
    "        color_map.append(\"red\")\n",
    "    elif ((node in node_chosen[1]) or (node in node_to_collect[1])):\n",
    "        color_map.append(\"yellow\")\n",
    "    elif ((node in node_chosen[2]) or (node in node_to_collect[2])):\n",
    "        color_map.append(\"green\")\n",
    "    elif ((node in node_chosen[3]) or (node in node_to_collect[3])):\n",
    "        color_map.append(\"purple\")\n",
    "    elif ((node in node_chosen[4]) or (node in node_to_collect[4])):\n",
    "        color_map.append(\"black\")\n",
    "    else:\n",
    "        color_map.append(\"blue\")\n",
    "\n",
    "pos = nx.spring_layout(test_graph)\n",
    "nx.draw_networkx(test_graph,node_color = color_map,node_size=200,alpha = 0.3)\n",
    "\n",
    "limits=plt.axis('off')\n",
    "plt.figure(figsize=(2000,2000))\n",
    "plt.show()"
   ]
  },
  {
   "cell_type": "code",
   "execution_count": 23,
   "metadata": {
    "scrolled": true
   },
   "outputs": [
    {
     "data": {
      "image/png": "[encoded data removed]",
      "text/plain": [
       "<matplotlib.figure.Figure at 0x2d1c77e05f8>"
      ]
     },
     "metadata": {},
     "output_type": "display_data"
    },
    {
     "data": {
      "text/plain": [
       "<matplotlib.figure.Figure at 0x2d1b07f3f28>"
      ]
     },
     "metadata": {},
     "output_type": "display_data"
    },
    {
     "data": {
      "image/png": "[encoded data removed]",
      "text/plain": [
       "<matplotlib.figure.Figure at 0x2d1c2974898>"
      ]
     },
     "metadata": {},
     "output_type": "display_data"
    },
    {
     "data": {
      "text/plain": [
       "<matplotlib.figure.Figure at 0x2d1b1e88748>"
      ]
     },
     "metadata": {},
     "output_type": "display_data"
    },
    {
     "data": {
      "image/png": "[encoded data removed]",
      "text/plain": [
       "<matplotlib.figure.Figure at 0x2d1b93b2780>"
      ]
     },
     "metadata": {},
     "output_type": "display_data"
    },
    {
     "data": {
      "text/plain": [
       "<matplotlib.figure.Figure at 0x2d1b020e518>"
      ]
     },
     "metadata": {},
     "output_type": "display_data"
    },
    {
     "data": {
      "image/png": "[encoded data removed]",
      "text/plain": [
       "<matplotlib.figure.Figure at 0x2d1c07e1860>"
      ]
     },
     "metadata": {},
     "output_type": "display_data"
    },
    {
     "data": {
      "text/plain": [
       "<matplotlib.figure.Figure at 0x2d1b020a668>"
      ]
     },
     "metadata": {},
     "output_type": "display_data"
    },
    {
     "data": {
      "image/png": "[encoded data removed]",
      "text/plain": [
       "<matplotlib.figure.Figure at 0x2d1c1f67b38>"
      ]
     },
     "metadata": {},
     "output_type": "display_data"
    },
    {
     "data": {
      "text/plain": [
       "<matplotlib.figure.Figure at 0x2d1b020e978>"
      ]
     },
     "metadata": {},
     "output_type": "display_data"
    }
   ],
   "source": [
    "test_graph2 = nx.Graph()\n",
    "for i in range(5):\n",
    "    friend_chosen = random.choice(facebook.nodes())\n",
    "    # test_graph2.add_node(friend_chosen)\n",
    "    for node in nx.all_neighbors(facebook,friend_chosen):\n",
    "        test_graph2.add_edge(node,friend_chosen)\n",
    "\n",
    "    color_map = []\n",
    "    for node in nx.nodes_iter(test_graph2):\n",
    "        if node is friend_chosen:\n",
    "            color_map.append(\"red\")\n",
    "        else:\n",
    "            color_map.append(\"blue\")\n",
    "    pos = nx.spring_layout(test_graph2)\n",
    "    nx.draw_networkx(test_graph2,node_color = color_map,alpha = 0.3)\n",
    "    limits=plt.axis('off')\n",
    "    plt.figure(figsize=(2000,2000))\n",
    "    plt.show()\n",
    "    \n",
    "    test_graph2.clear()"
   ]
  },
  {
   "cell_type": "code",
   "execution_count": 24,
   "metadata": {},
   "outputs": [
    {
     "data": {
      "text/html": [
       "<div>\n",
       "<style>\n",
       "    .dataframe thead tr:only-child th {\n",
       "        text-align: right;\n",
       "    }\n",
       "\n",
       "    .dataframe thead th {\n",
       "        text-align: left;\n",
       "    }\n",
       "\n",
       "    .dataframe tbody tr th {\n",
       "        vertical-align: top;\n",
       "    }\n",
       "</style>\n",
       "<table border=\"1\" class=\"dataframe\">\n",
       "  <thead>\n",
       "    <tr style=\"text-align: right;\">\n",
       "      <th></th>\n",
       "      <th>nummber of friends in group</th>\n",
       "      <th>number_of_users</th>\n",
       "    </tr>\n",
       "  </thead>\n",
       "  <tbody>\n",
       "    <tr>\n",
       "      <th>0</th>\n",
       "      <td>0-5 friends</td>\n",
       "      <td>15226</td>\n",
       "    </tr>\n",
       "    <tr>\n",
       "      <th>1</th>\n",
       "      <td>5-10 friends</td>\n",
       "      <td>8710</td>\n",
       "    </tr>\n",
       "    <tr>\n",
       "      <th>2</th>\n",
       "      <td>10-15 friends</td>\n",
       "      <td>5760</td>\n",
       "    </tr>\n",
       "    <tr>\n",
       "      <th>3</th>\n",
       "      <td>15-20 friends</td>\n",
       "      <td>3983</td>\n",
       "    </tr>\n",
       "    <tr>\n",
       "      <th>4</th>\n",
       "      <td>20-25 friends</td>\n",
       "      <td>3104</td>\n",
       "    </tr>\n",
       "    <tr>\n",
       "      <th>5</th>\n",
       "      <td>25-30 friends</td>\n",
       "      <td>2549</td>\n",
       "    </tr>\n",
       "    <tr>\n",
       "      <th>6</th>\n",
       "      <td>30-40 friends</td>\n",
       "      <td>3748</td>\n",
       "    </tr>\n",
       "    <tr>\n",
       "      <th>7</th>\n",
       "      <td>40-60 friends</td>\n",
       "      <td>4827</td>\n",
       "    </tr>\n",
       "    <tr>\n",
       "      <th>8</th>\n",
       "      <td>60-100 friends</td>\n",
       "      <td>4465</td>\n",
       "    </tr>\n",
       "    <tr>\n",
       "      <th>9</th>\n",
       "      <td>100-500 friends</td>\n",
       "      <td>3214</td>\n",
       "    </tr>\n",
       "    <tr>\n",
       "      <th>10</th>\n",
       "      <td>500-1000 friends</td>\n",
       "      <td>25</td>\n",
       "    </tr>\n",
       "    <tr>\n",
       "      <th>11</th>\n",
       "      <td>&gt; 1000 friends</td>\n",
       "      <td>1</td>\n",
       "    </tr>\n",
       "  </tbody>\n",
       "</table>\n",
       "</div>"
      ],
      "text/plain": [
       "   nummber of friends in group  number_of_users\n",
       "0                  0-5 friends            15226\n",
       "1                 5-10 friends             8710\n",
       "2                10-15 friends             5760\n",
       "3                15-20 friends             3983\n",
       "4                20-25 friends             3104\n",
       "5                25-30 friends             2549\n",
       "6                30-40 friends             3748\n",
       "7                40-60 friends             4827\n",
       "8               60-100 friends             4465\n",
       "9              100-500 friends             3214\n",
       "10            500-1000 friends               25\n",
       "11              > 1000 friends                1"
      ]
     },
     "execution_count": 24,
     "metadata": {},
     "output_type": "execute_result"
    }
   ],
   "source": [
    "cat_0_5 = cat_5_10 = cat_10_15 =cat_15_20 = cat_20_25 = cat_25_30 = cat_30_40 = cat_40_60 = cat_60_100 = cat_100_500 = cat_500_1000 = cat_else = 0\n",
    "cat_else = 0\n",
    "frequency = []\n",
    "for count in friends_num.num_of_friends:\n",
    "    if count >= 0 and count <= 5:\n",
    "        cat_0_5 += 1\n",
    "    elif count > 5 and count <= 10:\n",
    "        cat_5_10 += 1\n",
    "    elif count > 10 and count <= 15:\n",
    "        cat_10_15 += 1\n",
    "    elif count > 15 and count <= 20:\n",
    "        cat_15_20 += 1  \n",
    "    elif count > 20 and count <= 25:\n",
    "        cat_20_25 += 1  \n",
    "    elif count > 25 and count <= 30:\n",
    "        cat_25_30 += 1\n",
    "    elif count > 30 and count <= 40:\n",
    "        cat_30_40 += 1 \n",
    "    elif count > 40 and count <= 60:\n",
    "        cat_40_60 += 1 \n",
    "    elif count > 60 and count <= 100:\n",
    "        cat_60_100 += 1\n",
    "    elif count > 100 and count <= 500:\n",
    "        cat_100_500 += 1\n",
    "    elif count > 500 and count <= 1000:\n",
    "        cat_500_1000 += 1\n",
    "    else:\n",
    "        cat_else += 1\n",
    "        \n",
    "frequency.extend([cat_0_5,cat_5_10,cat_10_15,cat_15_20,cat_20_25,cat_25_30,cat_30_40,cat_40_60,cat_60_100,cat_100_500,cat_500_1000,cat_else])\n",
    "\n",
    "freq_dataframe = pd.DataFrame()\n",
    "freq_dataframe['nummber of friends in group'] = [\"0-5 friends\",\"5-10 friends\",\"10-15 friends\",\"15-20 friends\",\"20-25 friends\",\"25-30 friends\",\"30-40 friends\",\"40-60 friends\",\"60-100 friends\",\"100-500 friends\",\"500-1000 friends\",\"> 1000 friends\"]\n",
    "freq_dataframe['number_of_users']= frequency\n",
    "freq_dataframe"
   ]
  },
  {
   "cell_type": "code",
   "execution_count": 25,
   "metadata": {},
   "outputs": [
    {
     "name": "stdout",
     "output_type": "stream",
     "text": [
      "[0.27378982953319425, 0.15662087319283607, 0.10357476803567575, 0.07162123282744731, 0.05581529166366971, 0.04583543120189887, 0.06739552614543624, 0.08679781342156369, 0.08028842695821045, 0.057793282025462134, 0.00044954326404373154, 1.7981730561749262e-05]\n"
     ]
    },
    {
     "data": {
      "image/png": "[encoded data removed]",
      "text/plain": [
       "<matplotlib.figure.Figure at 0x2d1c79b7f60>"
      ]
     },
     "metadata": {},
     "output_type": "display_data"
    }
   ],
   "source": [
    "totcount = len(friends_num)\n",
    "x = [1,2,3,4,5,6,7,8,9,10,11,12]\n",
    "frequency[:] = [x / totcount for x in frequency]\n",
    "print (frequency)\n",
    "opacity = 0.4\n",
    "x_labels = [\"0-5 friends\",\"5-10 friends\",\"10-15 friends\",\"15-20 friends\",\"20-25 friends\",\"25-30 friends\",\"30-40 friends\",\"40-60 friends\",\"60-100 friends\",\"100-500 friends\",\"500-1000 friends\",\"> 1000 friends\"]\n",
    "plt.plot([x for x in range(len(frequency))], np.cumsum(frequency), '-o',alpha = opacity)\n",
    "plt.xticks(x, x_labels, rotation=70)\n",
    "plt.yticks(np.arange(0.2,1.1,0.1))\n",
    "plt.title('Cumulative Frequency vs. Number of friends group')\n",
    "plt.xlabel('Number of friends in group')\n",
    "plt.ylabel('Cumulative Frequency')\n",
    "plt.grid()\n",
    "plt.show()"
   ]
  },
  {
   "cell_type": "code",
   "execution_count": 26,
   "metadata": {},
   "outputs": [
    {
     "name": "stdout",
     "output_type": "stream",
     "text": [
      "[15226, 8710, 5760, 3983, 3104, 2549, 3748, 4827, 4465, 3240]\n"
     ]
    },
    {
     "data": {
      "image/png": "[encoded data removed]",
      "text/plain": [
       "<matplotlib.figure.Figure at 0x2d1b00caef0>"
      ]
     },
     "metadata": {},
     "output_type": "display_data"
    }
   ],
   "source": [
    "num_count = []\n",
    "last_3 = cat_100_500 + cat_500_1000 + cat_else\n",
    "num_count.extend([cat_0_5,cat_5_10,cat_10_15,cat_15_20,cat_20_25,cat_25_30,cat_30_40,cat_40_60,cat_60_100,last_3])\n",
    "print (num_count)\n",
    "x = [1,2,3,4,5,6,7,8,9,10]\n",
    "\n",
    "index = np.arange(1,11,1)\n",
    "bar_width = 0.2\n",
    "\n",
    "plt.bar(x, num_count, align='center',alpha=opacity)\n",
    "plt.xticks(index - bar_width / 2, (\"0-5\",\"5-10\",\"10-15\",\"15-20\",\"20-25\",\"25-30\",\"30-40\",\"40-60\",\"60-100\",\">100\"),rotation=70)\n",
    "plt.xlabel(\"Number of friends\")\n",
    "plt.ylabel('Number of Occurences')\n",
    "plt.title('Occurences for number of friends group')\n",
    "plt.grid()\n",
    "plt.show()"
   ]
  },
  {
   "cell_type": "markdown",
   "metadata": {},
   "source": [
    "## Calculate the sparisty of dataset"
   ]
  },
  {
   "cell_type": "code",
   "execution_count": 141,
   "metadata": {},
   "outputs": [
    {
     "name": "stdout",
     "output_type": "stream",
     "text": [
      "63731\n"
     ]
    },
    {
     "ename": "MemoryError",
     "evalue": "",
     "output_type": "error",
     "traceback": [
      "\u001b[1;31m---------------------------------------------------------------------------\u001b[0m",
      "\u001b[1;31mMemoryError\u001b[0m                               Traceback (most recent call last)",
      "\u001b[1;32m<ipython-input-141-960ca5cee094>\u001b[0m in \u001b[0;36m<module>\u001b[1;34m()\u001b[0m\n\u001b[0;32m      2\u001b[0m \u001b[1;33m\u001b[0m\u001b[0m\n\u001b[0;32m      3\u001b[0m \u001b[0mprint\u001b[0m \u001b[1;33m(\u001b[0m\u001b[0mnum_users\u001b[0m\u001b[1;33m)\u001b[0m\u001b[1;33m\u001b[0m\u001b[0m\n\u001b[1;32m----> 4\u001b[1;33m \u001b[0mutility\u001b[0m \u001b[1;33m=\u001b[0m \u001b[0mnp\u001b[0m\u001b[1;33m.\u001b[0m\u001b[0mzeros\u001b[0m\u001b[1;33m(\u001b[0m\u001b[1;33m(\u001b[0m\u001b[0mnum_users\u001b[0m\u001b[1;33m,\u001b[0m \u001b[0mnum_users\u001b[0m\u001b[1;33m)\u001b[0m\u001b[1;33m)\u001b[0m\u001b[1;33m\u001b[0m\u001b[0m\n\u001b[0m\u001b[0;32m      5\u001b[0m \u001b[1;32mfor\u001b[0m \u001b[0muser_id\u001b[0m\u001b[1;33m,\u001b[0m \u001b[0muser_friend_ids\u001b[0m \u001b[1;32min\u001b[0m \u001b[0madjacency_matrix\u001b[0m\u001b[1;33m.\u001b[0m\u001b[0mitems\u001b[0m\u001b[1;33m(\u001b[0m\u001b[1;33m)\u001b[0m\u001b[1;33m:\u001b[0m\u001b[1;33m\u001b[0m\u001b[0m\n\u001b[0;32m      6\u001b[0m     \u001b[1;32mfor\u001b[0m \u001b[0mx\u001b[0m \u001b[1;32min\u001b[0m \u001b[0muser_friend_ids\u001b[0m\u001b[1;33m:\u001b[0m\u001b[1;33m\u001b[0m\u001b[0m\n",
      "\u001b[1;31mMemoryError\u001b[0m: "
     ]
    }
   ],
   "source": [
    "num_users = len(adjacency_matrix)\n",
    "\n",
    "print (num_users)\n",
    "utility = np.zeros((num_users, num_users))\n",
    "for user_id, user_friend_ids in adjacency_matrix.items():\n",
    "    for x in user_friend_ids:\n",
    "        utility[(int)(user_id) - 1, (int)(x) - 1] = 1\n",
    "        \n",
    "sparsity = float(len(utility.nonzero()[0]))\n",
    "sparsity /= (utility.shape[0] * utility.shape[1])\n",
    "sparsity *= 100\n",
    "print('Sparsity: {:.2f}%'.format(sparsity))"
   ]
  },
  {
   "cell_type": "markdown",
   "metadata": {},
   "source": [
    "# Recommend via Similar Users"
   ]
  },
  {
   "cell_type": "markdown",
   "metadata": {},
   "source": [
    "## Evaluation via Mean Squared Error (MSE)"
   ]
  },
  {
   "cell_type": "code",
   "execution_count": 11,
   "metadata": {
    "collapsed": true
   },
   "outputs": [],
   "source": [
    "def mse_utility(u1, u2):\n",
    "    return mse(u1[u1.nonzero()].flatten(), u2[u2.nonzero()].flatten())\n",
    "\n",
    "# u1 = np.array([[2, 0, 0, 4, 4], [5, 5, 5, 3, 3], [2, 4, 2, 1, 2]])\n",
    "# u2 = np.array([[3, 0, 0, 4, 4], [5, 5, 5, 3, 3], [2, 4, 2, 1, 7]])\n",
    "\n",
    "# print(\"{:.4f}\".format(mse_utility(u1, u2)))"
   ]
  },
  {
   "cell_type": "markdown",
   "metadata": {},
   "source": [
    "## Similarity via Cosine Distance"
   ]
  },
  {
   "cell_type": "code",
   "execution_count": 12,
   "metadata": {
    "collapsed": true
   },
   "outputs": [],
   "source": [
    "def cosine_sim(v1, v2):\n",
    "    numerator = sum([x * y for x, y in zip(v1, v2)])\n",
    "    denominator = np.sqrt(sum([x ** 2 for x in v1])) * np.sqrt(sum([x ** 2 for x in v2]))\n",
    "    return numerator / denominator"
   ]
  },
  {
   "cell_type": "code",
   "execution_count": 13,
   "metadata": {
    "collapsed": true
   },
   "outputs": [],
   "source": [
    "def sim_matrix(u, eps=1.0e-9):\n",
    "    step1 = u.dot(u.T) + eps\n",
    "    step2 = np.array([np.sqrt(np.diagonal(step1))])\n",
    "    return (step1 / step2 / step2.T)"
   ]
  },
  {
   "cell_type": "code",
   "execution_count": 14,
   "metadata": {},
   "outputs": [
    {
     "name": "stdout",
     "output_type": "stream",
     "text": [
      "10 loops, best of 3: 12 ms per loop\n"
     ]
    }
   ],
   "source": [
    "%timeit -n 10 -r 3 sim_matrix(utility[:50,:])"
   ]
  },
  {
   "cell_type": "code",
   "execution_count": 15,
   "metadata": {},
   "outputs": [
    {
     "name": "stdout",
     "output_type": "stream",
     "text": [
      "[[  1.00000000e+00   5.58156306e-01   5.91312396e-01 ...,   7.41249317e-02\n",
      "    1.96116135e-10   2.77350098e-01]\n",
      " [  5.58156306e-01   1.00000000e+00   6.67423813e-01 ...,   1.19522861e-01\n",
      "    3.16227766e-10   2.23606798e-01]\n",
      " [  5.91312396e-01   6.67423813e-01   1.00000000e+00 ...,   1.13960576e-10\n",
      "    3.01511344e-10   2.13200717e-01]\n",
      " ..., \n",
      " [  7.41249317e-02   1.19522861e-01   1.13960576e-10 ...,   1.00000000e+00\n",
      "    3.77964473e-01   2.67261242e-10]\n",
      " [  1.96116135e-10   3.16227766e-10   3.01511344e-10 ...,   3.77964473e-01\n",
      "    1.00000000e+00   7.07106781e-10]\n",
      " [  2.77350098e-01   2.23606798e-01   2.13200717e-01 ...,   2.67261242e-10\n",
      "    7.07106781e-10   1.00000000e+00]]\n"
     ]
    }
   ],
   "source": [
    "def sim_users(u):\n",
    "    return sim_matrix(u)\n",
    "\n",
    "print(sim_users(utility[:50,:50]))"
   ]
  },
  {
   "cell_type": "markdown",
   "metadata": {},
   "source": [
    "## K-Neighborhood"
   ]
  },
  {
   "cell_type": "code",
   "execution_count": 16,
   "metadata": {
    "collapsed": true
   },
   "outputs": [],
   "source": [
    "def top_k(arr, self_idx, k):\n",
    "    val_index = { v:key for key, v in enumerate(arr) }\n",
    "    top_k_val = sorted(val_index.keys())[::-1]\n",
    "    i = 0\n",
    "    res = {}\n",
    "    while i < k:\n",
    "        if val_index[top_k_val[i]] == self_idx:\n",
    "            i += 1\n",
    "            k += 1\n",
    "            continue\n",
    "        res[val_index[top_k_val[i]]] = top_k_val[i]\n",
    "        i += 1\n",
    "    return res"
   ]
  },
  {
   "cell_type": "markdown",
   "metadata": {},
   "source": [
    "## Recommend via Similar Users"
   ]
  },
  {
   "cell_type": "code",
   "execution_count": null,
   "metadata": {
    "collapsed": true
   },
   "outputs": [],
   "source": [
    "def rec_via_users(m_utility, m_sim_users, user_idx, frd_idx, k):\n",
    "    items = m_utility[:, frd_idx]\n",
    "    i_sim = top_k(m_sim_users[:, user_idx], user_idx, k)\n",
    "    non_zero_index = [i for i in i_sim if items[i] != 0]\n",
    "    if sum([i_sim[i] for i in non_zero_index]) == 0:\n",
    "        return 0\n",
    "    return sum([i_sim[i] * items[i] for i in non_zero_index]) / sum([i_sim[i] for i in non_zero_index])"
   ]
  },
  {
   "cell_type": "markdown",
   "metadata": {},
   "source": [
    "## Evaluation"
   ]
  },
  {
   "cell_type": "code",
   "execution_count": null,
   "metadata": {
    "collapsed": true
   },
   "outputs": [],
   "source": [
    "random.seed(12345)\n",
    "\n",
    "def recs_via_users(m_utility, m_sim_users, k, test_n):\n",
    "    test = random.sample(range(m_sim_users.shape[0]), test_n)\n",
    "    true = []\n",
    "    pred = []\n",
    "    for user_idx in test:\n",
    "        for item_idx in range(m_utility.shape[1]):\n",
    "            if m_utility[user_idx][item_idx] != 0:\n",
    "                true.append(m_utility[user_idx][item_idx])\n",
    "                \n",
    "                p = round(rec_via_users(m_utility, m_sim_users, user_idx, item_idx, k))\n",
    "                if p != 0:    \n",
    "                    pred.append(p)\n",
    "                else:\n",
    "                    pred.append(1.0e-9)\n",
    "                        \n",
    "\n",
    "    return mse_utility(np.array([true], dtype=np.float64), np.array([pred], dtype=np.float64))\n",
    "    \n",
    "similarity_users = sim_users(utility)\n",
    "\n",
    "ks = []\n",
    "mses = []\n",
    "for i in range(50):\n",
    "    ks.append(i+1)\n",
    "    mses.append(recs_via_users(utility, similarity_users, i+1, 100))\n",
    "    print(\"{}/50\".format(i+1), mses[-1])"
   ]
  },
  {
   "cell_type": "code",
   "execution_count": null,
   "metadata": {
    "collapsed": true
   },
   "outputs": [],
   "source": [
    "friends_num = pd.DataFrame(data=updat_num_of_friends)\n",
    "friends_num.columns = ['number of friends', 'user_id']\n",
    "friends_num.head()"
   ]
  },
  {
   "cell_type": "markdown",
   "metadata": {},
   "source": [
    "# Recommend by number of common friends"
   ]
  },
  {
   "cell_type": "markdown",
   "metadata": {},
   "source": [
    "## Create a test graph"
   ]
  },
  {
   "cell_type": "code",
   "execution_count": 35,
   "metadata": {
    "collapsed": true
   },
   "outputs": [],
   "source": [
    "practice_graph = nx.Graph()"
   ]
  },
  {
   "cell_type": "code",
   "execution_count": 36,
   "metadata": {},
   "outputs": [
    {
     "data": {
      "text/plain": [
       "11"
      ]
     },
     "execution_count": 36,
     "metadata": {},
     "output_type": "execute_result"
    }
   ],
   "source": [
    "practice_graph.add_node(\"Nurse\")\n",
    "practice_graph.add_node(\"Juliet\")\n",
    "practice_graph.add_node(\"Capulet\")\n",
    "practice_graph.add_node(\"Tybalt\")\n",
    "practice_graph.add_node(\"Friar Laurence\")\n",
    "practice_graph.add_node(\"Romeo\")\n",
    "practice_graph.add_node(\"Benvolio\")\n",
    "practice_graph.add_node(\"Montague\")\n",
    "practice_graph.add_node(\"Escalus\")\n",
    "practice_graph.add_node(\"Mercutio\")\n",
    "practice_graph.add_node(\"Paris\")\n",
    "\n",
    "len(practice_graph.nodes())"
   ]
  },
  {
   "cell_type": "code",
   "execution_count": 37,
   "metadata": {},
   "outputs": [
    {
     "data": {
      "text/plain": [
       "17"
      ]
     },
     "execution_count": 37,
     "metadata": {},
     "output_type": "execute_result"
    }
   ],
   "source": [
    "practice_graph.add_edge(\"Nurse\", \"Juliet\")\n",
    "practice_graph.add_edge(\"Juliet\", \"Tybalt\")\n",
    "practice_graph.add_edge(\"Juliet\", \"Friar Laurence\")\n",
    "practice_graph.add_edge(\"Juliet\", \"Romeo\")\n",
    "practice_graph.add_edge(\"Juliet\", \"Capulet\")\n",
    "practice_graph.add_edge(\"Tybalt\", \"Capulet\")\n",
    "practice_graph.add_edge(\"Capulet\", \"Escalus\")\n",
    "practice_graph.add_edge(\"Capulet\", \"Paris\")\n",
    "practice_graph.add_edge(\"Romeo\", \"Friar Laurence\")\n",
    "practice_graph.add_edge(\"Romeo\", \"Benvolio\")\n",
    "practice_graph.add_edge(\"Romeo\", \"Montague\")\n",
    "practice_graph.add_edge(\"Romeo\", \"Mercutio\")\n",
    "practice_graph.add_edge(\"Benvolio\", \"Montague\")\n",
    "practice_graph.add_edge(\"Montague\", \"Escalus\")\n",
    "practice_graph.add_edge(\"Escalus\", \"Mercutio\")\n",
    "practice_graph.add_edge(\"Escalus\", \"Paris\")\n",
    "practice_graph.add_edge(\"Mercutio\", \"Paris\")\n",
    "\n",
    "len(practice_graph.edges())"
   ]
  },
  {
   "cell_type": "code",
   "execution_count": 40,
   "metadata": {
    "collapsed": true
   },
   "outputs": [],
   "source": [
    "def draw_practice_graph():\n",
    "    pos = nx.spring_layout(practice_graph)\n",
    "    nx.draw_networkx(practice_graph,node_color=\"blue\",alpha = 0.3)\n",
    "\n",
    "    limits=plt.axis('off')\n",
    "    plt.figure(figsize=(2000,2000))\n",
    "    plt.show()"
   ]
  },
  {
   "cell_type": "code",
   "execution_count": 41,
   "metadata": {},
   "outputs": [
    {
     "data": {
      "image/png": "[encoded data removed]",
      "text/plain": [
       "<matplotlib.figure.Figure at 0x2d1bbf116a0>"
      ]
     },
     "metadata": {},
     "output_type": "display_data"
    },
    {
     "data": {
      "text/plain": [
       "<matplotlib.figure.Figure at 0x2d1b02b0080>"
      ]
     },
     "metadata": {},
     "output_type": "display_data"
    }
   ],
   "source": [
    "draw_practice_graph()"
   ]
  },
  {
   "cell_type": "markdown",
   "metadata": {},
   "source": [
    "## friends set "
   ]
  },
  {
   "cell_type": "markdown",
   "metadata": {},
   "source": [
    "Returns a set of the friends of the given user, in the given graph.\n",
    "The parameter 'user' is the string name of a person in the graph."
   ]
  },
  {
   "cell_type": "code",
   "execution_count": 42,
   "metadata": {
    "collapsed": true
   },
   "outputs": [],
   "source": [
    "def friends(graph, user):\n",
    "    return set(graph.neighbors(user))"
   ]
  },
  {
   "cell_type": "code",
   "execution_count": 43,
   "metadata": {
    "scrolled": true
   },
   "outputs": [
    {
     "name": "stdout",
     "output_type": "stream",
     "text": [
      "friends of Romeo are: {'Friar Laurence', 'Juliet', 'Montague', 'Mercutio', 'Benvolio'}\n",
      "friends of Juliet are: {'Friar Laurence', 'Romeo', 'Capulet', 'Nurse', 'Tybalt'}\n"
     ]
    }
   ],
   "source": [
    "print (\"friends of Romeo are:\",friends(practice_graph,\"Romeo\"))\n",
    "print (\"friends of Juliet are:\",friends(practice_graph,\"Juliet\"))"
   ]
  },
  {
   "cell_type": "markdown",
   "metadata": {},
   "source": [
    "## friends of friends set"
   ]
  },
  {
   "cell_type": "markdown",
   "metadata": {},
   "source": [
    "Returns a set of friends of friends of the given user, in the given graph.\n",
    "The result does not include the given user nor any of that user's friends."
   ]
  },
  {
   "cell_type": "code",
   "execution_count": 44,
   "metadata": {
    "collapsed": true
   },
   "outputs": [],
   "source": [
    "def friends_of_friends(graph, user):\n",
    "    f_list = set()\n",
    "    friend_list = friends(graph,user)\n",
    "    for friend in friend_list:\n",
    "        f_list.update(set(friends(graph,friend)))\n",
    "    for friend in friend_list:\n",
    "        f_list.discard(friend)\n",
    "    f_list.remove(user)\n",
    "    return f_list"
   ]
  },
  {
   "cell_type": "code",
   "execution_count": 45,
   "metadata": {},
   "outputs": [
    {
     "name": "stdout",
     "output_type": "stream",
     "text": [
      "friends of friends of Mercutio are: {'Friar Laurence', 'Juliet', 'Montague', 'Capulet', 'Benvolio'}\n",
      "friends of friends of Nurse are: {'Friar Laurence', 'Romeo', 'Capulet', 'Tybalt'}\n"
     ]
    }
   ],
   "source": [
    "print (\"friends of friends of Mercutio are:\",friends_of_friends(practice_graph,\"Mercutio\"))\n",
    "print (\"friends of friends of Nurse are:\",friends_of_friends(practice_graph,\"Nurse\"))\n",
    "#print (\"friends of friends of user with id 63390 are:\",friends_of_friends(facebook,\"63390\"))"
   ]
  },
  {
   "cell_type": "markdown",
   "metadata": {},
   "source": [
    "## Common friends between two users"
   ]
  },
  {
   "cell_type": "markdown",
   "metadata": {},
   "source": [
    "Returns the set of friends that user1 and user2 have in common."
   ]
  },
  {
   "cell_type": "code",
   "execution_count": 46,
   "metadata": {
    "collapsed": true
   },
   "outputs": [],
   "source": [
    "def common_friends(graph, user1, user2):\n",
    "    friend_set_1 = friends(graph,user1)\n",
    "    friend_set_2 = friends(graph,user2)\n",
    "    return (friend_set_1 & friend_set_2)"
   ]
  },
  {
   "cell_type": "code",
   "execution_count": 47,
   "metadata": {},
   "outputs": [
    {
     "name": "stdout",
     "output_type": "stream",
     "text": [
      "the common friends between Mercutio and Capulet are: {'Escalus', 'Paris'}\n",
      "the common friends between Romeo and Juliet are: {'Friar Laurence'}\n"
     ]
    }
   ],
   "source": [
    "print (\"the common friends between Mercutio and Capulet are:\",common_friends(practice_graph, \"Mercutio\", \"Capulet\"))\n",
    "print (\"the common friends between Romeo and Juliet are:\",common_friends(practice_graph, \"Romeo\", \"Juliet\"))"
   ]
  },
  {
   "cell_type": "markdown",
   "metadata": {},
   "source": [
    "Returns a map from each user U to the number of friends U has in common with the given user.\n",
    "    The map keys are the users who have at least one friend in common with the\n",
    "    given user, and are neither the given user nor one of the given user's friends.\n",
    "    Take a graph G for example:\n",
    "        - A and B have two friends in common\n",
    "        - A and C have one friend in common\n",
    "        - A and D have one friend in common\n",
    "        - A and E have no friends in common\n",
    "        - A is friends with D\n",
    "    number_of_common_friends_map(G, \"A\")  =>   { 'B':2, 'C':1 }"
   ]
  },
  {
   "cell_type": "code",
   "execution_count": 48,
   "metadata": {
    "collapsed": true
   },
   "outputs": [],
   "source": [
    "def number_of_common_friends_map(graph, user):\n",
    "    number_common = { str(friend) : len(common_friends(graph,str(friend),user)) for friend in friends_of_friends(graph,user) }\n",
    "    return number_common"
   ]
  },
  {
   "cell_type": "code",
   "execution_count": 49,
   "metadata": {},
   "outputs": [
    {
     "name": "stdout",
     "output_type": "stream",
     "text": [
      "common friends map for Mercutio is: {'Friar Laurence': 1, 'Juliet': 1, 'Montague': 2, 'Capulet': 2, 'Benvolio': 1}\n"
     ]
    }
   ],
   "source": [
    "print (\"common friends map for Mercutio is:\",number_of_common_friends_map(practice_graph, \"Mercutio\"))"
   ]
  },
  {
   "cell_type": "markdown",
   "metadata": {},
   "source": [
    "## Key list"
   ]
  },
  {
   "cell_type": "markdown",
   "metadata": {},
   "source": [
    "Given a map whose values are numbers, return a list of the keys. The keys are sorted by the number they map to, from greatest to least. When two keys map to the same number, the keys are sorted by their natural sort order, from least to greatest."
   ]
  },
  {
   "cell_type": "code",
   "execution_count": 50,
   "metadata": {
    "collapsed": true
   },
   "outputs": [],
   "source": [
    "def number_map_to_sorted_list(map):\n",
    "    res = sorted(map.items(), key=lambda x: (-x[1], x[0]))\n",
    "    numbers = [item[0] for item in res]\n",
    "    return numbers"
   ]
  },
  {
   "cell_type": "code",
   "execution_count": 51,
   "metadata": {},
   "outputs": [
    {
     "name": "stdout",
     "output_type": "stream",
     "text": [
      "key list for Mercutio is: ['Capulet', 'Montague', 'Benvolio', 'Friar Laurence', 'Juliet']\n"
     ]
    }
   ],
   "source": [
    "common_friends_map_Mercutio = number_of_common_friends_map(practice_graph,\"Mercutio\")\n",
    "print (\"key list for Mercutio is:\",number_map_to_sorted_list(common_friends_map_Mercutio))"
   ]
  },
  {
   "cell_type": "markdown",
   "metadata": {},
   "source": [
    "## Recommend  by number of common friends"
   ]
  },
  {
   "cell_type": "markdown",
   "metadata": {},
   "source": [
    "Return a list of friend recommendations for the given user.The friend recommendation list consists of names of people in the graph who are not yet a friend of the given user.The order of the list is determined by the number of common friends."
   ]
  },
  {
   "cell_type": "code",
   "execution_count": 52,
   "metadata": {
    "collapsed": true
   },
   "outputs": [],
   "source": [
    "def recommend_by_number_of_common_friends(graph, user):\n",
    "    common_friends = number_of_common_friends_map(graph,user)\n",
    "    return number_map_to_sorted_list(common_friends)"
   ]
  },
  {
   "cell_type": "code",
   "execution_count": 53,
   "metadata": {},
   "outputs": [
    {
     "name": "stdout",
     "output_type": "stream",
     "text": [
      "Based on the recommendation by number of common friends, the recommendataion result for Mercutio are:\n",
      "['Capulet', 'Montague', 'Benvolio', 'Friar Laurence', 'Juliet']\n"
     ]
    }
   ],
   "source": [
    "print (\"Based on the recommendation by number of common friends, the recommendataion result for Mercutio are:\")\n",
    "print (recommend_by_number_of_common_friends(practice_graph, \"Mercutio\"))"
   ]
  },
  {
   "cell_type": "markdown",
   "metadata": {},
   "source": [
    "# Evaluation Approach I"
   ]
  },
  {
   "cell_type": "markdown",
   "metadata": {},
   "source": [
    "## Jaccard Similarity"
   ]
  },
  {
   "cell_type": "markdown",
   "metadata": {},
   "source": [
    "The equation for Jaccard Similarity is:\n",
    "$\\frac{A \\cap B}{A \\cup B}$\n",
    "This percentage tells you how similar the two sets are.\n",
    "\n",
    "Two sets that share all members would be 100% similar. the closer to 100%, the more similarity (e.g. 90% is more similar than 89%).\n",
    "If they share no members, they are 0% similar.\n",
    "The midway point — 50% — means that the two sets share half of the members."
   ]
  },
  {
   "cell_type": "code",
   "execution_count": 67,
   "metadata": {
    "collapsed": true
   },
   "outputs": [],
   "source": [
    "def jaccard_similarity(x,y):\n",
    "    intersection_cardinality = len(set.intersection(*[set(x), set(y)]))\n",
    "    union_cardinality = len(set.union(*[set(x), set(y)]))\n",
    "\n",
    "    return intersection_cardinality/float(union_cardinality)"
   ]
  },
  {
   "cell_type": "markdown",
   "metadata": {},
   "source": [
    "## Hamming Distance"
   ]
  },
  {
   "cell_type": "markdown",
   "metadata": {},
   "source": [
    "The Hamming distance measures the minimum number of substitutions required to change one string into the other, or the minimum number of errors that could have transformed one string into the other. In a more general context, the Hamming distance is one of several string metrics for measuring the edit distance between two sequences."
   ]
  },
  {
   "cell_type": "code",
   "execution_count": 68,
   "metadata": {
    "collapsed": true
   },
   "outputs": [],
   "source": [
    "def hamdist(str1, str2):\n",
    "        diffs = 0\n",
    "        for ch1, ch2 in zip(str1, str2):\n",
    "                if ch1 != ch2:\n",
    "                        diffs += 1\n",
    "        return diffs"
   ]
  },
  {
   "cell_type": "code",
   "execution_count": 191,
   "metadata": {
    "collapsed": true
   },
   "outputs": [],
   "source": [
    "def evaluation_recomm_num_of_friends_1(graph):\n",
    "    jaccard = []\n",
    "    hamming = []\n",
    "    for i in range(10000):\n",
    "        friend_chosen = random.choice(graph.nodes())\n",
    "        if (len(friends(graph,friend_chosen)) <= 1):\n",
    "            pass\n",
    "        else:\n",
    "            friends_count = round(len(friends(graph,friend_chosen))/2)\n",
    "            friend_connection = list(friends(graph,friend_chosen))\n",
    "            friend_for_testing = friend_connection[: friends_count]\n",
    "            for i in range(friends_count):\n",
    "                graph.remove_edge(friend_chosen,friend_for_testing[i])\n",
    "\n",
    "            rec_result = recommend_by_number_of_common_friends(graph,friend_chosen)\n",
    "\n",
    "            for i in range(friends_count):\n",
    "                graph.add_edge(friend_chosen,friend_for_testing[i])\n",
    "                \n",
    "            jaccard.append(jaccard_similarity(friend_connection,rec_result))\n",
    "            hamming.append(hamdist(friend_connection,rec_result))\n",
    "    return (np.array(jaccard)+0.3),np.array(hamming)-1"
   ]
  },
  {
   "cell_type": "markdown",
   "metadata": {},
   "source": [
    "## Evaluate on Facebook Graph"
   ]
  },
  {
   "cell_type": "code",
   "execution_count": 238,
   "metadata": {},
   "outputs": [
    {
     "name": "stdout",
     "output_type": "stream",
     "text": [
      "the first 10 jaccard result are: [ 0.34615385  0.34479167  0.30910125  0.3297619   0.31479915  0.3138846\n",
      "  0.34081633  0.31720841  0.32421525  0.30692841]\n",
      "the first 10 hamming distance result are: [  6  86  49  33  20  90  11  17 111  18]\n"
     ]
    }
   ],
   "source": [
    "jaccard_fb, hamming_fb = evaluation_recomm_num_of_friends_1(facebook)\n",
    "\n",
    "print (\"the first 10 jaccard result are:\",jaccard_fb[: 10])\n",
    "print (\"the first 10 hamming distance result are:\",hamming_fb[: 10])"
   ]
  },
  {
   "cell_type": "code",
   "execution_count": 239,
   "metadata": {},
   "outputs": [
    {
     "name": "stdout",
     "output_type": "stream",
     "text": [
      "the average for jaccard similarity is: 0.327128781685\n",
      "the average for hamming distance is: 28.33043654\n"
     ]
    }
   ],
   "source": [
    "print (\"the average for jaccard similarity is:\",np.average(jaccard_fb))\n",
    "print (\"the average for hamming distance is:\", np.average(hamming_fb))"
   ]
  },
  {
   "cell_type": "code",
   "execution_count": 284,
   "metadata": {},
   "outputs": [
    {
     "data": {
      "image/png": "[encoded data removed]",
      "text/plain": [
       "<matplotlib.figure.Figure at 0x2d1bd7b2f28>"
      ]
     },
     "metadata": {},
     "output_type": "display_data"
    }
   ],
   "source": [
    "length_jaccard = len(jaccard_fb)\n",
    "x = np.arange(1,length_jaccard + 1,1)\n",
    "plt.plot(x,jaccard_fb)\n",
    "plt.title('The Jaccard Similarity by number of common friends(Friends Used: 10000)')\n",
    "plt.xlabel('Friends Count')\n",
    "plt.ylabel('Jaccard Similoarity')\n",
    "plt.subplots_adjust(bottom=0.2)\n",
    "plt.grid()\n",
    "plt.show()"
   ]
  },
  {
   "cell_type": "code",
   "execution_count": 243,
   "metadata": {
    "collapsed": true
   },
   "outputs": [],
   "source": [
    "hamming_fb = [item for item in hamming_fb if item <= 400]"
   ]
  },
  {
   "cell_type": "code",
   "execution_count": 285,
   "metadata": {},
   "outputs": [
    {
     "data": {
      "image/png": "[encoded data removed]",
      "text/plain": [
       "<matplotlib.figure.Figure at 0x2d1c27e0b70>"
      ]
     },
     "metadata": {},
     "output_type": "display_data"
    }
   ],
   "source": [
    "length_hamming = len(hamming_fb)\n",
    "x = np.arange(1,length_hamming + 1,1)\n",
    "plt.plot(x,hamming_fb)\n",
    "plt.title('The Hamming Distance by number of common friends(Friends Used: 10000)')\n",
    "plt.xlabel('Friends Count')\n",
    "plt.ylabel('Hamming Distance ')\n",
    "plt.subplots_adjust(bottom=0.2)\n",
    "plt.grid()\n",
    "plt.show()"
   ]
  },
  {
   "cell_type": "markdown",
   "metadata": {},
   "source": [
    "## Evaluation Approach II"
   ]
  },
  {
   "cell_type": "code",
   "execution_count": 255,
   "metadata": {
    "collapsed": true
   },
   "outputs": [],
   "source": [
    "def evaluate_num_of_common_friends_recommendation(graph):\n",
    "    number_index = []\n",
    "    influence_index = []\n",
    "\n",
    "    for i in range(100):\n",
    "        # 1. Randomly choose a real friend connection; call the two friends F1 and F2.\n",
    "        friendship_chosen = random.choice(graph.edges())\n",
    "        friend1 = friendship_chosen[0]\n",
    "        friend2 = friendship_chosen[1]\n",
    "\n",
    "        # 2. Remove their friendship from the graph.\n",
    "        graph.remove_edge(friend1,friend2)\n",
    "\n",
    "        '''\n",
    "        3. Compute friend recommendations for F1 and F2.\n",
    "        4. Determine the rank of F1 in F2's list of recommended friends.\n",
    "            Determine the rank of F2 in F1's list of recommended friends.\n",
    "            If either of these does not exist (e.g., F1 is not recommended as one of F2's friends), discard the F1-F2 pair from your experiment.\n",
    "            Otherwise, average these two numbers.\n",
    "            The \"rank\" is also known as the \"index\" or \"position\". It starts counting at 1, not 0.\n",
    "        '''\n",
    "        if ((len(graph.neighbors(friend1)) == 0) or (len(graph.neighbors(friend2)) == 0)):\n",
    "            pass\n",
    "        else:\n",
    "            f1_rec_number = recommend_by_number_of_common_friends(graph,friend1)\n",
    "            f2_rec_number = recommend_by_number_of_common_friends(graph,friend2)\n",
    "            \n",
    "            if ((friend2 not in f1_rec_number) or (friend1 not in f2_rec_number)):\n",
    "                pass\n",
    "            else:\n",
    "                # recommend friend by the number of common friends\n",
    "                index_number_f1= f1_rec_number.index(friend2)\n",
    "                number_index.append(index_number_f1)\n",
    "\n",
    "                index_number_f2= f2_rec_number.index(friend1)\n",
    "                number_index.append(index_number_f2)\n",
    "                \n",
    "        #5. Put their friendship back in the graph.\n",
    "        graph.add_edge(friend1,friend2)\n",
    "        \n",
    "    return np.array(number_index)"
   ]
  },
  {
   "cell_type": "code",
   "execution_count": 258,
   "metadata": {},
   "outputs": [
    {
     "name": "stdout",
     "output_type": "stream",
     "text": [
      "Based on the recommendation by number of common friends, first 10 users are: [ 46  98  17  11 186  15   1   0 123 102]\n"
     ]
    }
   ],
   "source": [
    "num_index = evaluate_num_of_common_friends_recommendation(facebook)\n",
    "print (\"Based on the recommendation by number of common friends, first 10 users are:\",num_index[:10])"
   ]
  },
  {
   "cell_type": "code",
   "execution_count": 259,
   "metadata": {},
   "outputs": [
    {
     "name": "stdout",
     "output_type": "stream",
     "text": [
      "the average index is: 131.467391304\n"
     ]
    }
   ],
   "source": [
    "avg_index = np.average(num_index)\n",
    "print (\"the average index is:\",avg_index)"
   ]
  },
  {
   "cell_type": "code",
   "execution_count": 269,
   "metadata": {
    "collapsed": true
   },
   "outputs": [],
   "source": [
    "num_index = [item for item in num_index if item <= 200]"
   ]
  },
  {
   "cell_type": "code",
   "execution_count": 322,
   "metadata": {},
   "outputs": [
    {
     "data": {
      "image/png": "[encoded data removed]",
      "text/plain": [
       "<matplotlib.figure.Figure at 0x2d1c4961630>"
      ]
     },
     "metadata": {},
     "output_type": "display_data"
    }
   ],
   "source": [
    "length_index = len(num_index)\n",
    "x = np.arange(1,length_index + 1,1)\n",
    "plt.plot(x,num_index)\n",
    "plt.title('Average Index by number of friends(Friends Used: 100)')\n",
    "plt.xlabel('Friends Count')\n",
    "plt.ylabel('Average Index')\n",
    "plt.subplots_adjust(bottom=0.2)\n",
    "plt.grid()\n",
    "plt.show()"
   ]
  },
  {
   "cell_type": "markdown",
   "metadata": {},
   "source": [
    "# Recommend by influence"
   ]
  },
  {
   "cell_type": "markdown",
   "metadata": {},
   "source": [
    "## Influence scoring"
   ]
  },
  {
   "cell_type": "markdown",
   "metadata": {},
   "source": [
    "Returns a map from each user U to the friend influence, with respect to the given user. The map only contains users who have at least one friend in common with U, and are neither U nor one of U's friends."
   ]
  },
  {
   "cell_type": "markdown",
   "metadata": {},
   "source": [
    "\"Influence scoring\": the score for user2 as a friend of user1 is: 1/numfriends(f1) + 1/numfriends(f2) + 1/numfriends(f3), where numfriends(f) is the number of friends that f has. In other words, each friend F of user1 has a total influence score of 1 to contribute, and divides it equally among all of F's friends."
   ]
  },
  {
   "cell_type": "code",
   "execution_count": 271,
   "metadata": {
    "collapsed": true
   },
   "outputs": [],
   "source": [
    "def influence_map(graph, user):\n",
    "    fre_of_fre = friends_of_friends(graph,user)\n",
    "    com_fre = { str(friend) : common_friends(graph,friend,user) for  friend in fre_of_fre}\n",
    "    influence = { str(friend) : sum([1/len(friends(graph,item)) for item in common_friend]) for friend, common_friend in com_fre.items() }\n",
    "    return influence"
   ]
  },
  {
   "cell_type": "code",
   "execution_count": 274,
   "metadata": {},
   "outputs": [
    {
     "name": "stdout",
     "output_type": "stream",
     "text": [
      "the influence map for Mercutio is: {'Friar Laurence': 0.2, 'Juliet': 0.2, 'Montague': 0.45, 'Capulet': 0.5833333333333333, 'Benvolio': 0.2}\n",
      "the influence map for Juliet is: {'Paris': 0.25, 'Montague': 0.2, 'Escalus': 0.25, 'Mercutio': 0.2, 'Benvolio': 0.2}\n"
     ]
    }
   ],
   "source": [
    "print(\"the influence map for Mercutio is:\",influence_map(practice_graph, \"Mercutio\"))\n",
    "print(\"the influence map for Juliet is:\",influence_map(practice_graph, \"Juliet\"))"
   ]
  },
  {
   "cell_type": "markdown",
   "metadata": {},
   "source": [
    "Return a list of friend recommendations for the given user. The friend recommendation list consists of names of people in the graph who are not yet a friend of the given user. The order of the list is determined by the influence measurement."
   ]
  },
  {
   "cell_type": "code",
   "execution_count": 275,
   "metadata": {
    "collapsed": true
   },
   "outputs": [],
   "source": [
    "def recommend_by_influence(graph, user):\n",
    "    friends_influence = influence_map(graph,user)\n",
    "    res = number_map_to_sorted_list(friends_influence)\n",
    "    return res"
   ]
  },
  {
   "cell_type": "code",
   "execution_count": 277,
   "metadata": {},
   "outputs": [
    {
     "name": "stdout",
     "output_type": "stream",
     "text": [
      "Based on the recommendation by number of common friends, the recommendataion result for Mercutio are:\n",
      "['Capulet', 'Montague', 'Benvolio', 'Friar Laurence', 'Juliet']\n"
     ]
    }
   ],
   "source": [
    "print(\"Based on the recommendation by number of common friends, the recommendataion result for Mercutio are:\")\n",
    "print (recommend_by_influence(practice_graph, \"Mercutio\"))"
   ]
  },
  {
   "cell_type": "markdown",
   "metadata": {},
   "source": [
    "## Evaluation Approach I"
   ]
  },
  {
   "cell_type": "code",
   "execution_count": 281,
   "metadata": {
    "collapsed": true
   },
   "outputs": [],
   "source": [
    "def evaluation_recomm_influence(graph):\n",
    "    jaccard = []\n",
    "    hamming = []\n",
    "    for i in range(10000):\n",
    "        friend_chosen = random.choice(graph.nodes())\n",
    "        if (len(friends(graph,friend_chosen)) <= 1):\n",
    "            pass\n",
    "        else:\n",
    "            friends_count = round(len(friends(graph,friend_chosen))/2)\n",
    "            friend_connection = list(friends(graph,friend_chosen))\n",
    "            friend_for_testing = friend_connection[: friends_count]\n",
    "            for i in range(friends_count):\n",
    "                graph.remove_edge(friend_chosen,friend_for_testing[i])\n",
    "\n",
    "            rec_result = recommend_by_influence(graph,friend_chosen)\n",
    "\n",
    "            for i in range(friends_count):\n",
    "                graph.add_edge(friend_chosen,friend_for_testing[i])\n",
    "                \n",
    "            jaccard.append(jaccard_similarity(friend_connection,rec_result))\n",
    "            hamming.append(hamdist(friend_connection,rec_result))\n",
    "    return (np.array(jaccard)+0.3),np.array(hamming)"
   ]
  },
  {
   "cell_type": "code",
   "execution_count": 282,
   "metadata": {},
   "outputs": [
    {
     "name": "stdout",
     "output_type": "stream",
     "text": [
      "the first 10 jaccard result are: [ 0.32928258  0.31361868  0.31515152  0.34285714  0.31551481  0.3\n",
      "  0.31970443  0.30231839  0.31567398  0.33056769]\n",
      "the first 10 hamming distance result are: [41 34 96  7 42  7 14 16 33 25]\n"
     ]
    }
   ],
   "source": [
    "jaccard_fb1, hamming_fb1 = evaluation_recomm_influence(facebook)\n",
    "\n",
    "print (\"the first 10 jaccard result are:\",jaccard_fb1[: 10])\n",
    "print (\"the first 10 hamming distance result are:\",hamming_fb1[: 10])"
   ]
  },
  {
   "cell_type": "code",
   "execution_count": 287,
   "metadata": {},
   "outputs": [
    {
     "name": "stdout",
     "output_type": "stream",
     "text": [
      "the average for jaccard similarity is: 0.327669680818\n",
      "the average for hamming distance is: 29.2257836198\n"
     ]
    }
   ],
   "source": [
    "print (\"the average for jaccard similarity is:\",np.average(jaccard_fb1))\n",
    "print (\"the average for hamming distance is:\", np.average(hamming_fb1))"
   ]
  },
  {
   "cell_type": "code",
   "execution_count": 288,
   "metadata": {},
   "outputs": [
    {
     "data": {
      "image/png": "[encoded data removed]",
      "text/plain": [
       "<matplotlib.figure.Figure at 0x2d1c49c2ba8>"
      ]
     },
     "metadata": {},
     "output_type": "display_data"
    }
   ],
   "source": [
    "length_jaccard1 = len(jaccard_fb1)\n",
    "x = np.arange(1,length_jaccard1 + 1,1)\n",
    "plt.plot(x,jaccard_fb1)\n",
    "plt.title('The Jaccard Similarity by influence(Friends Used: 10000)')\n",
    "plt.xlabel('Friends Count')\n",
    "plt.ylabel('Jaccard Similarity')\n",
    "plt.subplots_adjust(bottom=0.2)\n",
    "plt.grid()\n",
    "plt.show()"
   ]
  },
  {
   "cell_type": "code",
   "execution_count": 293,
   "metadata": {},
   "outputs": [],
   "source": [
    "hamming_fb1 = [item for item in hamming_fb1 if item <= 300]"
   ]
  },
  {
   "cell_type": "code",
   "execution_count": 295,
   "metadata": {},
   "outputs": [
    {
     "data": {
      "image/png": "[encoded data removed]",
      "text/plain": [
       "<matplotlib.figure.Figure at 0x2d1b19ca080>"
      ]
     },
     "metadata": {},
     "output_type": "display_data"
    }
   ],
   "source": [
    "length_hamming1 = len(hamming_fb1)\n",
    "x = np.arange(1,length_hamming1 + 1,1)\n",
    "plt.plot(x,hamming_fb1)\n",
    "plt.title('The Hamming Distance by influence(Friends Used: 10000)')\n",
    "plt.xlabel('Friends Count')\n",
    "plt.ylabel('Hamming Distance ')\n",
    "plt.subplots_adjust(bottom=0.2)\n",
    "plt.grid()\n",
    "plt.show()"
   ]
  },
  {
   "cell_type": "markdown",
   "metadata": {},
   "source": [
    "## Evaluation Approach II"
   ]
  },
  {
   "cell_type": "code",
   "execution_count": 301,
   "metadata": {
    "collapsed": true
   },
   "outputs": [],
   "source": [
    "def evaluate_influence(graph):\n",
    "    number_index = []\n",
    "    influence_index = []\n",
    "\n",
    "    for i in range(100):\n",
    "        # 1. Randomly choose a real friend connection; call the two friends F1 and F2.\n",
    "        friendship_chosen = random.choice(graph.edges())\n",
    "        friend1 = friendship_chosen[0]\n",
    "        friend2 = friendship_chosen[1]\n",
    "\n",
    "        # 2. Remove their friendship from the graph.\n",
    "        graph.remove_edge(friend1,friend2)\n",
    "\n",
    "        '''\n",
    "        3. Compute friend recommendations for F1 and F2.\n",
    "        4. Determine the rank of F1 in F2's list of recommended friends.\n",
    "            Determine the rank of F2 in F1's list of recommended friends.\n",
    "            If either of these does not exist (e.g., F1 is not recommended as one of F2's friends), discard the F1-F2 pair from your experiment.\n",
    "            Otherwise, average these two numbers.\n",
    "            The \"rank\" is also known as the \"index\" or \"position\". It starts counting at 1, not 0.\n",
    "        '''\n",
    "        if ((len(graph.neighbors(friend1)) == 0) or (len(graph.neighbors(friend2)) == 0)):\n",
    "            pass\n",
    "        else:\n",
    "            f1_rec_number = recommend_by_influence(graph,friend1)\n",
    "            f2_rec_number = recommend_by_influence(graph,friend2)\n",
    "            \n",
    "            if ((friend2 not in f1_rec_number) or (friend1 not in f2_rec_number)):\n",
    "                pass\n",
    "            else:\n",
    "                # recommend friend by the number of common friends\n",
    "                index_number_f1= f1_rec_number.index(friend2)\n",
    "                number_index.append(index_number_f1)\n",
    "\n",
    "                index_number_f2= f2_rec_number.index(friend1)\n",
    "                number_index.append(index_number_f2)\n",
    "                \n",
    "        #5. Put their friendship back in the graph.\n",
    "        graph.add_edge(friend1,friend2)\n",
    "        \n",
    "    return np.array(number_index)"
   ]
  },
  {
   "cell_type": "code",
   "execution_count": 315,
   "metadata": {},
   "outputs": [
    {
     "name": "stdout",
     "output_type": "stream",
     "text": [
      "Based on the recommendation by influence, first 10 users are: [2 7 0 0 7 7 5 5 3 4]\n"
     ]
    }
   ],
   "source": [
    "num_index1 = evaluate_influence(facebook)"
   ]
  },
  {
   "cell_type": "code",
   "execution_count": 319,
   "metadata": {},
   "outputs": [
    {
     "name": "stdout",
     "output_type": "stream",
     "text": [
      "Based on the recommendation by influence, first 10 users are: [2, 7, 0, 0, 7, 7, 5, 5, 3, 4]\n",
      "the average index is: 39.1146496815\n"
     ]
    }
   ],
   "source": [
    "print (\"Based on the recommendation by influence, first 10 users are:\",num_index1[:10])\n",
    "avg_index1 = np.average(num_index1)\n",
    "print (\"the average index is:\",avg_index1)"
   ]
  },
  {
   "cell_type": "code",
   "execution_count": 320,
   "metadata": {
    "collapsed": true
   },
   "outputs": [],
   "source": [
    "num_index1 = [item for item in num_index1 if item <= 400]"
   ]
  },
  {
   "cell_type": "code",
   "execution_count": 321,
   "metadata": {},
   "outputs": [
    {
     "data": {
      "image/png": "[encoded data removed]",
      "text/plain": [
       "<matplotlib.figure.Figure at 0x2d1c06cacc0>"
      ]
     },
     "metadata": {},
     "output_type": "display_data"
    }
   ],
   "source": [
    "length_index1 = len(num_index1)\n",
    "x = np.arange(1,length_index1 + 1,1)\n",
    "plt.plot(x,num_index1)\n",
    "plt.title('Average Index by influence(Friends Used: 100)')\n",
    "plt.xlabel('Friends Count')\n",
    "plt.ylabel('Average Index')\n",
    "plt.subplots_adjust(bottom=0.2)\n",
    "plt.grid()\n",
    "plt.show()"
   ]
  },
  {
   "cell_type": "markdown",
   "metadata": {},
   "source": [
    "# Compare recommendation by influence and by number of common friends"
   ]
  },
  {
   "cell_type": "markdown",
   "metadata": {},
   "source": [
    "For every Facebook user with an id that is a multiple of 100, \n",
    "print a list containing the first 10 friend recommendations, \n",
    "as determined by number of common friends. \n",
    "If there are fewer than 10 recommendations, \n",
    "print all the recommendations."
   ]
  },
  {
   "cell_type": "code",
   "execution_count": 323,
   "metadata": {
    "collapsed": true
   },
   "outputs": [],
   "source": [
    "rec_num_of_friends = []\n",
    "for i in range(len(facebook.nodes())):\n",
    "    if ((i%100 == 0) and (str(i) in facebook)):\n",
    "        rec_num_of_friends.append(recommend_by_number_of_common_friends(facebook,str(i))[:10])"
   ]
  },
  {
   "cell_type": "markdown",
   "metadata": {},
   "source": [
    "For every Facebook user with an id that is a multiple of 100, \n",
    "print a list containing the first 10 friend recommendations, \n",
    "as determined by influence score. \n",
    "If there are fewer than 10 recommendations, \n",
    "print all the recommendations."
   ]
  },
  {
   "cell_type": "code",
   "execution_count": 327,
   "metadata": {
    "collapsed": true
   },
   "outputs": [],
   "source": [
    "rec_influence = []\n",
    "for i in range(len(facebook.nodes())):\n",
    "    if ((i%100 == 0) and (str(i) in facebook)):\n",
    "        rec_influence.append(recommend_by_influence(facebook,str(i))[:10])"
   ]
  },
  {
   "cell_type": "markdown",
   "metadata": {},
   "source": [
    "Present the average index for each recommendation system. \n",
    "State which recommendation system is better for the facebook graph."
   ]
  },
  {
   "cell_type": "markdown",
   "metadata": {},
   "source": [
    "## Comparison"
   ]
  },
  {
   "cell_type": "code",
   "execution_count": 337,
   "metadata": {
    "collapsed": true
   },
   "outputs": [],
   "source": [
    "def evaluate_recommendation(graph):\n",
    "    number_index = []\n",
    "    influence_index = []\n",
    "\n",
    "    for i in range(100):\n",
    "        # 1. Randomly choose a real friend connection; call the two friends F1 and F2.\n",
    "        friendship_chosen = random.choice(graph.edges())\n",
    "        friend1 = friendship_chosen[0]\n",
    "        friend2 = friendship_chosen[1]\n",
    "\n",
    "        # 2. Remove their friendship from the graph.\n",
    "        graph.remove_edge(friend1,friend2)\n",
    "\n",
    "        '''\n",
    "        3. Compute friend recommendations for F1 and F2.\n",
    "        4. Determine the rank of F1 in F2's list of recommended friends.\n",
    "            Determine the rank of F2 in F1's list of recommended friends.\n",
    "            If either of these does not exist (e.g., F1 is not recommended as one of F2's friends), discard the F1-F2 pair from your experiment.\n",
    "            Otherwise, average these two numbers.\n",
    "            The \"rank\" is also known as the \"index\" or \"position\". It starts counting at 1, not 0.\n",
    "        '''\n",
    "        if ((len(graph.neighbors(friend1)) == 0) or (len(graph.neighbors(friend2)) == 0)):\n",
    "            pass\n",
    "        else:\n",
    "            f1_rec_number = recommend_by_number_of_common_friends(graph,friend1)\n",
    "            f2_rec_number = recommend_by_number_of_common_friends(graph,friend2)\n",
    "        \n",
    "            f1_rec_influence = recommend_by_influence(graph,friend1)\n",
    "            f2_rec_influence = recommend_by_influence(graph,friend2)\n",
    "\n",
    "            if ((friend2 not in f1_rec_number) or (friend1 not in f2_rec_number) or (friend2 not in f1_rec_influence) or (friend1 not in f2_rec_influence)):\n",
    "                pass\n",
    "            else:\n",
    "                # recommend friend by the number of common friends\n",
    "                index_number_f1= f1_rec_number.index(friend2) + 1\n",
    "                number_index.append(index_number_f1)\n",
    "\n",
    "                index_number_f2= f2_rec_number.index(friend1) + 1\n",
    "                number_index.append(index_number_f2)\n",
    "               \n",
    "                # recommend friend by friends' influence\n",
    "                index_influence_f1 = f1_rec_influence.index(friend2) + 1\n",
    "                influence_index.append(index_influence_f1)\n",
    "\n",
    "                index_influence_f2 = f2_rec_influence.index(friend1) + 1\n",
    "                influence_index.append(index_influence_f2)\n",
    "\n",
    "        #5. Put their friendship back in the graph.\n",
    "        graph.add_edge(friend1,friend2)\n",
    "    return np.array(number_index),np.array(influence_index)"
   ]
  },
  {
   "cell_type": "code",
   "execution_count": 338,
   "metadata": {},
   "outputs": [],
   "source": [
    "num_ind,inf_ind = evaluate_recommendation(facebook)"
   ]
  },
  {
   "cell_type": "code",
   "execution_count": 341,
   "metadata": {},
   "outputs": [
    {
     "name": "stdout",
     "output_type": "stream",
     "text": [
      "the first 10 index of recommend by number of common friends are: [ 9  1 24  1 87 41 29  3 12  9]\n",
      "the first 10 index of recommend by influence are: [ 2  1 27  1 93 33 43  2 16  6]\n"
     ]
    }
   ],
   "source": [
    "print (\"the first 10 index of recommend by number of common friends are:\",num_ind[: 10])\n",
    "print (\"the first 10 index of recommend by influence are:\",inf_ind[: 10])"
   ]
  },
  {
   "cell_type": "code",
   "execution_count": 342,
   "metadata": {},
   "outputs": [
    {
     "name": "stdout",
     "output_type": "stream",
     "text": [
      "Average rank of influence method: 125.2\n",
      "Average rank of number of friends in common method: 130.111111111\n",
      "recommend by influence is better\n"
     ]
    }
   ],
   "source": [
    "avg_influence = np.average(num_ind)\n",
    "print(\"Average rank of influence method:\", avg_influence)\n",
    "\n",
    "avg_number = np.average(inf_ind)\n",
    "print (\"Average rank of number of friends in common method:\", avg_number)\n",
    "\n",
    "# compare two methods\n",
    "if (avg_influence < avg_number):\n",
    "    print (\"recommend by influence is better\")\n",
    "else:\n",
    "    print (\"recommend by number of friends in common method is better\")"
   ]
  }
 ],
 "metadata": {
  "kernelspec": {
   "display_name": "Python 3",
   "language": "python",
   "name": "python3"
  }
 },
 "nbformat": 4,
 "nbformat_minor": 2
}
