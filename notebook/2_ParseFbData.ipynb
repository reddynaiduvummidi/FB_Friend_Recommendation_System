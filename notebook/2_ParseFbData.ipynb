{
 "cells": [
  {
   "cell_type": "markdown",
   "metadata": {},
   "source": [
    "# Notebook to parse FB data recieved from Facebook Graph Explorer API"
   ]
  },
  {
   "cell_type": "markdown",
   "metadata": {},
   "source": [
    "## Import libraries to assist in analysis"
   ]
  },
  {
   "cell_type": "code",
   "execution_count": 2,
   "metadata": {
    "collapsed": true
   },
   "outputs": [],
   "source": [
    "import pandas as pd\n",
    "import pickle\n",
    "import numpy\n",
    "import matplotlib.pyplot as plt\n",
    "%matplotlib inline"
   ]
  },
  {
   "cell_type": "code",
   "execution_count": 149,
   "metadata": {
    "collapsed": true
   },
   "outputs": [],
   "source": [
    "def readData(filename):\n",
    "    \"\"\"\n",
    "    Method reads the facebook Graph API dump data already stored on the\n",
    "    disk in pickle format. The data is in JSON format\n",
    "    :param filename : filename for the data stored on the disk\n",
    "    :return : None\n",
    "    \"\"\"\n",
    "    with open(filename, \"rb\") as fileHandler:\n",
    "        data = pickle.load(fileHandler)\n",
    "        return data\n",
    "    \n",
    "fbDataFile = \"../output/10207648390994439\"\n",
    "data = readData(fbDataFile)"
   ]
  },
  {
   "cell_type": "code",
   "execution_count": 150,
   "metadata": {},
   "outputs": [
    {
     "data": {
      "text/plain": [
       "dict_keys(['education', 'favorite_teams', 'friends', 'family', 'about', 'tagged_places', 'sports', 'favorite_athletes', 'photos', 'events', 'name', 'id', 'likes', 'gender', 'hometown', 'birthday', 'location', 'relationship_status', 'work'])"
      ]
     },
     "execution_count": 150,
     "metadata": {},
     "output_type": "execute_result"
    }
   ],
   "source": [
    "data.keys()"
   ]
  },
  {
   "cell_type": "code",
   "execution_count": 151,
   "metadata": {},
   "outputs": [
    {
     "data": {
      "text/plain": [
       "'859854448375'"
      ]
     },
     "execution_count": 151,
     "metadata": {},
     "output_type": "execute_result"
    }
   ],
   "source": [
    "data['friends']['data'][0]['id']"
   ]
  },
  {
   "cell_type": "code",
   "execution_count": 155,
   "metadata": {},
   "outputs": [],
   "source": [
    "def parse1Level(parentFriend, user, userJson):\n",
    "    \"\"\"\n",
    "    Function to extract friend list of given user from the given userJson\n",
    "    :param parendFriend : Integer. Friend of given user\n",
    "    :param user : Integer as user_id e.g. 1975030262039\n",
    "    :param userJson : in Dict format e.g. {'birthday': '11/13/1991',\n",
    "                                            'education': [{'id': '1975030262039',\n",
    "                                            'school': {'id': '108546329176028', 'name': 'MPVM Ganga Gurukulam'},\n",
    "                                            'type': 'High School',\n",
    "                                            'year': {'id': '136328419721520', 'name': '2009'}}],\n",
    "                                            friends: {friendList in the same format}}\n",
    "    :return: List. Friend of given user extacted from userJson\n",
    "    \"\"\"\n",
    "    friendList = set()\n",
    "    try:\n",
    "        for friend in userJson['friends']['data']:\n",
    "            friendList.add(friend['id'])\n",
    "        friendList.add(user)\n",
    "        return list(friendList)[:]\n",
    "    except Exception as e:\n",
    "        # handling part if user has no friend, function return empty list\n",
    "        return [parentFriend]\n",
    "    \n",
    "\n",
    "def parseFullJson(userJson):\n",
    "    \"\"\"\n",
    "    Function to extract friend list of given user from the given userJson\n",
    "    :param userJson : in Dict format e.g. {'birthday': '11/13/1991',\n",
    "                                            'education': [{'id': '1975030262039',\n",
    "                                            'school': {'id': '108546329176028', 'name': 'MPVM Ganga Gurukulam'},\n",
    "                                            'type': 'High School',\n",
    "                                            'year': {'id': '136328419721520', 'name': '2009'}}],\n",
    "                                            friends: {friendList in the same format}}\n",
    "    :return: None\n",
    "    \"\"\"\n",
    "    visitedUser=set()\n",
    "    parentUser = userJson['id']\n",
    "    \n",
    "    with open(\"../data/adjList_\"+userJson['id'], 'w') as fileHandler:        \n",
    "        friendList = parse1Level(parentUser, parentUser, userJson)\n",
    "        writeLine(parentUser, friendList, fileHandler, visitedUser)\n",
    "        visitedUser.add(parentUser)\n",
    "        for userJson1 in userJson['friends']['data']:\n",
    "            user = userJson1['id']\n",
    "            friendList = parse1Level(parentUser, user, userJson1)            \n",
    "            writeLine(user, friendList, fileHandler,visitedUser) \n",
    "            visitedUser.add(user)\n",
    "        try:\n",
    "            for userJson1 in userJson['friends']['data']:\n",
    "                parentUser = userJson1['id']\n",
    "                for userJson2 in userJson1['friends']['data']:\n",
    "                    user = userJson2['id']\n",
    "                    friendList = parse1Level(parentUser, user, userJson2)\n",
    "                    writeLine(user, friendList, fileHandler, visitedUser)\n",
    "                    visitedUser.add(user)\n",
    "        except Exception as e:\n",
    "            # handling part if user's friend has no friend\n",
    "            pass\n",
    "            \n",
    "            \n",
    "        # one level remaining\n",
    "    \n",
    "def writeLine(user, friendList, fileHandler, visitedUser):\n",
    "    \"\"\"\n",
    "    Functions write 1 row of the adjList in the givenFile\n",
    "    :param user : Integer . e.g 1975030262039\n",
    "    :param friendList : List . List of user friends\n",
    "    :param fileHandler : File handler in which entries are to be made\n",
    "    :param visitedUser : set . Set of Integers that has already been written in the file\n",
    "    :return : None\n",
    "    \"\"\"\n",
    "    if user not in visitedUser:\n",
    "        fileHandler.write(str(user)+\" \")\n",
    "        for friend in friendList:\n",
    "            fileHandler.write(friend+\" \")\n",
    "        fileHandler.write(\"\\n\")\n",
    "    return None\n",
    "\n",
    "# friendList = parse1Level(\"10207648390994439\", data)\n",
    "# friendList\n",
    "\n",
    "parseFullJson(data)\n",
    "# parse1Level(\"Parentdummy\", \"dummy\", data['friends']['data'][0]['friends']['data'][0])"
   ]
  },
  {
   "cell_type": "code",
   "execution_count": null,
   "metadata": {
    "collapsed": true
   },
   "outputs": [],
   "source": []
  }
 ],
 "metadata": {
  "kernelspec": {
   "display_name": "Python 3",
   "language": "python",
   "name": "python3"
  },
  "language_info": {
   "codemirror_mode": {
    "name": "ipython",
    "version": 3
   },
   "file_extension": ".py",
   "mimetype": "text/x-python",
   "name": "python",
   "nbconvert_exporter": "python",
   "pygments_lexer": "ipython3",
   "version": "3.5.3"
  }
 },
 "nbformat": 4,
 "nbformat_minor": 2
}
