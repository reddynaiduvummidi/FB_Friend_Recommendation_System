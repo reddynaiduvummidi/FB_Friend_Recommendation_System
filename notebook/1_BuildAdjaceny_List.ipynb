{
 "cells": [
  {
   "cell_type": "markdown",
   "metadata": {},
   "source": [
    "# Building adjaceny list of the graph for data from Univ. of Washington"
   ]
  },
  {
   "cell_type": "markdown",
   "metadata": {},
   "source": [
    "## Import libraries"
   ]
  },
  {
   "cell_type": "code",
   "execution_count": 1,
   "metadata": {},
   "outputs": [],
   "source": [
    "import pandas as pd\n",
    "import numpy as np\n",
    "import networkx as nx\n",
    "import matplotlib.pyplot as plt\n",
    "%matplotlib inline"
   ]
  },
  {
   "cell_type": "code",
   "execution_count": 2,
   "metadata": {},
   "outputs": [
    {
     "data": {
      "text/html": [
       "<div>\n",
       "<style>\n",
       "    .dataframe thead tr:only-child th {\n",
       "        text-align: right;\n",
       "    }\n",
       "\n",
       "    .dataframe thead th {\n",
       "        text-align: left;\n",
       "    }\n",
       "\n",
       "    .dataframe tbody tr th {\n",
       "        vertical-align: top;\n",
       "    }\n",
       "</style>\n",
       "<table border=\"1\" class=\"dataframe\">\n",
       "  <thead>\n",
       "    <tr style=\"text-align: right;\">\n",
       "      <th></th>\n",
       "      <th>0</th>\n",
       "      <th>1</th>\n",
       "      <th>2</th>\n",
       "    </tr>\n",
       "  </thead>\n",
       "  <tbody>\n",
       "    <tr>\n",
       "      <th>0</th>\n",
       "      <td>1</td>\n",
       "      <td>2</td>\n",
       "      <td>\\N</td>\n",
       "    </tr>\n",
       "    <tr>\n",
       "      <th>1</th>\n",
       "      <td>1</td>\n",
       "      <td>3</td>\n",
       "      <td>\\N</td>\n",
       "    </tr>\n",
       "    <tr>\n",
       "      <th>2</th>\n",
       "      <td>1</td>\n",
       "      <td>4</td>\n",
       "      <td>\\N</td>\n",
       "    </tr>\n",
       "    <tr>\n",
       "      <th>3</th>\n",
       "      <td>1</td>\n",
       "      <td>5</td>\n",
       "      <td>\\N</td>\n",
       "    </tr>\n",
       "    <tr>\n",
       "      <th>4</th>\n",
       "      <td>1</td>\n",
       "      <td>6</td>\n",
       "      <td>\\N</td>\n",
       "    </tr>\n",
       "  </tbody>\n",
       "</table>\n",
       "</div>"
      ],
      "text/plain": [
       "   0  1   2\n",
       "0  1  2  \\N\n",
       "1  1  3  \\N\n",
       "2  1  4  \\N\n",
       "3  1  5  \\N\n",
       "4  1  6  \\N"
      ]
     },
     "execution_count": 2,
     "metadata": {},
     "output_type": "execute_result"
    }
   ],
   "source": [
    "df = pd.read_csv(\"../data/facebook-links.txt.anon\", sep=\"\\s+\", header=None)\n",
    "df.head()"
   ]
  },
  {
   "cell_type": "code",
   "execution_count": 3,
   "metadata": {},
   "outputs": [
    {
     "name": "stdout",
     "output_type": "stream",
     "text": [
      "<class 'pandas.core.frame.DataFrame'>\n",
      "RangeIndex: 1545686 entries, 0 to 1545685\n",
      "Data columns (total 3 columns):\n",
      "0    1545686 non-null int64\n",
      "1    1545686 non-null int64\n",
      "2    1545686 non-null object\n",
      "dtypes: int64(2), object(1)\n",
      "memory usage: 35.4+ MB\n"
     ]
    }
   ],
   "source": [
    "df.info()"
   ]
  },
  {
   "cell_type": "code",
   "execution_count": 4,
   "metadata": {},
   "outputs": [],
   "source": [
    "def convertToAdjacenyList(graphDf):\n",
    "    \"\"\"\n",
    "    Function to convert given graph dataFrame in below format : \n",
    "        1 2\n",
    "        1 3\n",
    "        1 4\n",
    "        2 10\n",
    "    into format like below and return the same:\n",
    "        1 2 3 4\n",
    "        2 10\n",
    "    \"\"\"\n",
    "    with open(\"../data/adjList_UW.txt\", 'w') as fileHandler:\n",
    "        for user in df[0].unique():\n",
    "            userFriendList = df[df[0]==user][1].values\n",
    "            fileHandler.write(str(user)+\" \")\n",
    "            for friend in userFriendList:\n",
    "                fileHandler.write(str(friend)+\" \")\n",
    "            fileHandler.write(\"\\n\")\n",
    "\n",
    "# uncomment the below line to reconstruct the graph.\n",
    "# graph already constructed\n",
    "\n",
    "# convertToAdjacenyList(df)"
   ]
  },
  {
   "cell_type": "markdown",
   "metadata": {},
   "source": [
    "## Reading the newly constructed Adjlist into memory using NetworkX library"
   ]
  },
  {
   "cell_type": "code",
   "execution_count": 5,
   "metadata": {},
   "outputs": [],
   "source": [
    "G= nx.read_adjlist(\"../data/adjList_UW.txt\")"
   ]
  },
  {
   "cell_type": "code",
   "execution_count": 6,
   "metadata": {},
   "outputs": [],
   "source": [
    "\"\"\"\n",
    "readDataInMem: Read data from provided file into a list (one record per line)\n",
    "               Returns list\n",
    "\"\"\"\n",
    "\n",
    "\n",
    "\n",
    "\n",
    "def readDataInMem():\n",
    "    cols=[]\n",
    "    rows=[]\n",
    "    with open(\"../data/adjList_UW.txt\",'r') as fr:\n",
    "        for line in fr:\n",
    "            cols=line.split()\n",
    "            if cols[-1]=='\\\\N':\n",
    "                cols[-1]='0'\n",
    "            cols=list(map(int,cols))\n",
    "            rows.append(cols)\n",
    "    return rows"
   ]
  },
  {
   "cell_type": "code",
   "execution_count": 7,
   "metadata": {},
   "outputs": [],
   "source": [
    "rows=readDataInMem()"
   ]
  },
  {
   "cell_type": "code",
   "execution_count": 8,
   "metadata": {},
   "outputs": [],
   "source": [
    "\n",
    "\"\"\"\n",
    "buildPerUserFrndLst: Build dict of {userId:[friendList]} from list provided\n",
    "                     Returns the built dict\n",
    "\"\"\"\n",
    "\n",
    "def buildPerUserFrndLst(rows):\n",
    "    frndMap={}\n",
    "    for r in rows:\n",
    "        frndMap[r[0]]=r[1:]\n",
    "            \n",
    "    return frndMap"
   ]
  },
  {
   "cell_type": "code",
   "execution_count": 9,
   "metadata": {},
   "outputs": [],
   "source": [
    "frndMap=buildPerUserFrndLst(rows)"
   ]
  },
  {
   "cell_type": "code",
   "execution_count": 10,
   "metadata": {},
   "outputs": [],
   "source": [
    "\"\"\"\n",
    "recommendFrnd: 1. Read data from file containing friends\n",
    "               2. Build per user friendList \n",
    "               3. Find most probable friend for given seed on the \n",
    "                  basis of max mutual friends\n",
    "\"\"\"\n",
    "\n",
    "def recommendFrnd(seed,frndMap):\n",
    "\n",
    "    #rows=readDataInMem() #list of lines read from file (expected format: [id1,id2,timestamp(0 if no timestamp)])\n",
    "    #frndMap=buildPerUserFrndLst(rows) # dict with userId and friendList (format {id:[friendList]})\n",
    "    level1Frnds=frndMap[seed] # Friend list for the provided seed (format: List of friend Ids)\n",
    "    probableFrnd,support=frndWithMaxMutualCount(level1Frnds,frndMap)   # probable friend Id and tot mutual friends\n",
    "\n",
    "    #Display frined Id with max frequency or mutual friend\n",
    "    print(\"Suggest user \"+str(probableFrnd)+\" to \"+str(seed)+ \" (common friends:\"+str(support)+\" )\")\n",
    "\n",
    " \n",
    "\n",
    "\n",
    "\n",
    "\"\"\"\n",
    "frndWithMaxMutualCount: Calculate the occurence of each Id found at level2 (i.e. friends of level1 friends)\n",
    "                        Returns the userId with max count and count\n",
    "\"\"\"\n",
    "\n",
    "def frndWithMaxMutualCount(level1Frnds,frndMap):\n",
    "    level2Frnds= set()\n",
    "    freqCnt={}\n",
    "    thisFrndFrnds=[]\n",
    "\n",
    "    #iterate through level1 friends\n",
    "\n",
    "    for i in level1Frnds:\n",
    "        if i in frndMap.keys():        \n",
    "            thisFrndFrnds=frndMap[i]\n",
    "                                     #get friendlist of level1 friend\n",
    "            for j in thisFrndFrnds:  #for each friend l2 of level1 friend l1,\n",
    "                if j != seed:       # if l1 not one of level1 friend add t to set\n",
    "                                     # and set frequency to 1. \n",
    "                    if j not in level1Frnds: \n",
    "                        if j in level2Frnds:\n",
    "                            freqCnt[j]=freqCnt[j]+1\n",
    "                        else:\n",
    "                            level2Frnds.add(j)\n",
    "                            freqCnt[j]=1\n",
    "    friendToSuggest=max(freqCnt, key=freqCnt.get)\n",
    "    len(frndMap.values())\n",
    "#     plt.hist(list(frndMap.keys()),list(len(frndMap.values())))\n",
    "    return friendToSuggest,freqCnt[friendToSuggest]\n",
    "                \n",
    "    "
   ]
  },
  {
   "cell_type": "code",
   "execution_count": 11,
   "metadata": {},
   "outputs": [
    {
     "name": "stdout",
     "output_type": "stream",
     "text": [
      "Suggest user 2056 to 1 (common friends:11 )\n"
     ]
    }
   ],
   "source": [
    "seed=1 #userId of the user for which we need to find mutual friend\n",
    "\n",
    "#print(str(frndMap))\n",
    "recommendFrnd(seed,frndMap) #"
   ]
  },
  {
   "cell_type": "code",
   "execution_count": null,
   "metadata": {},
   "outputs": [],
   "source": []
  }
 ],
 "metadata": {
  "kernelspec": {
   "display_name": "Python 3",
   "language": "python",
   "name": "python3"
  },
  "language_info": {
   "codemirror_mode": {
    "name": "ipython",
    "version": 3
   },
   "file_extension": ".py",
   "mimetype": "text/x-python",
   "name": "python",
   "nbconvert_exporter": "python",
   "pygments_lexer": "ipython3",
   "version": "3.5.2"
  }
 },
 "nbformat": 4,
 "nbformat_minor": 2
}
