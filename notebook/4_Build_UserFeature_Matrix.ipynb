{
 "cells": [
  {
   "cell_type": "markdown",
   "metadata": {},
   "source": [
    "## Importing libraries for assistance in analysis"
   ]
  },
  {
   "cell_type": "code",
   "execution_count": 3,
   "metadata": {
    "collapsed": true
   },
   "outputs": [],
   "source": [
    "import pandas as pd\n",
    "import numpy as np\n",
    "import pickle"
   ]
  },
  {
   "cell_type": "code",
   "execution_count": 4,
   "metadata": {},
   "outputs": [],
   "source": [
    "def readData(filename):\n",
    "    \"\"\"\n",
    "    Method reads the facebook Graph API dump data already stored on the\n",
    "    disk in pickle format. The data is in JSON format\n",
    "    :param filename : filename for the data stored on the disk\n",
    "    :return : Json Data extracted from FB API that was stored on the disk\n",
    "    \"\"\"\n",
    "    with open(filename, \"rb\") as fileHandler:\n",
    "        data = pickle.load(fileHandler)    \n",
    "    return data\n",
    "\n",
    "filename = \"../output/10207648390994439\"\n",
    "data = readData(filename)"
   ]
  },
  {
   "cell_type": "code",
   "execution_count": 12,
   "metadata": {},
   "outputs": [
    {
     "data": {
      "text/plain": [
       "dict_keys(['education', 'work', 'likes', 'relationship_status', 'favorite_teams', 'birthday', 'tagged_places', 'hometown', 'photos', 'id', 'friends', 'name', 'events', 'sports', 'family', 'location', 'gender', 'favorite_athletes', 'about'])"
      ]
     },
     "execution_count": 12,
     "metadata": {},
     "output_type": "execute_result"
    }
   ],
   "source": [
    "# data['friends']['data'] # a list of user's friends\n",
    "data.keys()"
   ]
  },
  {
   "cell_type": "code",
   "execution_count": 23,
   "metadata": {},
   "outputs": [],
   "source": [
    "def writeUserFeatureVector(fileHandler, *args):\n",
    "    \"\"\"\n",
    "    Function write user feature vector for 1 user on to disk with the provided fileHandler\n",
    "        e.g. 460881604288576 25 40.3 -70.456   (where 1st = ID, 2nd = Age, 3rd = Long, 4th = Lat)\n",
    "    :param fileHandler : File Object.\n",
    "    :param *args : List of arguments. Contains information like, age, location_lat, location_long\n",
    "    :return : None\n",
    "    \"\"\"\n",
    "    for item in args:\n",
    "        fileHandler.write(item+\" \")\n",
    "    fileHandler.write(\"\\n\")\n",
    "    return None\n",
    "\n",
    "def buildFeatureVectorForUsers(data):\n",
    "    \"\"\"\n",
    "    Function to write feature vector of all users on disk\n",
    "        e.g 460881604288576 25 40.3 -70.456 \n",
    "            123145675555555 26 12.6  50.9\n",
    "            897687345234534 32 34.5 -23.54\n",
    "    :param : JSON. Data retrived from FB graph API\n",
    "    \"\"\"\n",
    "    with open(\"../data/userFeatureMatrix.txt\", 'w') as fileHandler:\n",
    "        writeUserFeatureVector(fileHandler, data['id'], data['birthday'][-4:], )\n",
    "    return None\n",
    "\n",
    "buildFeatureVectorForUsers(data)"
   ]
  },
  {
   "cell_type": "code",
   "execution_count": null,
   "metadata": {
    "collapsed": true
   },
   "outputs": [],
   "source": []
  }
 ],
 "metadata": {
  "kernelspec": {
   "display_name": "Python 3",
   "language": "python",
   "name": "python3"
  },
  "language_info": {
   "codemirror_mode": {
    "name": "ipython",
    "version": 3
   },
   "file_extension": ".py",
   "mimetype": "text/x-python",
   "name": "python",
   "nbconvert_exporter": "python",
   "pygments_lexer": "ipython3",
   "version": "3.5.3"
  }
 },
 "nbformat": 4,
 "nbformat_minor": 2
}
