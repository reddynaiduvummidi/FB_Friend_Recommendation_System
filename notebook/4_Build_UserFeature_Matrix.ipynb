{
 "cells": [
  {
   "cell_type": "markdown",
   "metadata": {},
   "source": [
    "## Importing libraries for assistance in analysis"
   ]
  },
  {
   "cell_type": "code",
   "execution_count": 30,
   "metadata": {
    "collapsed": true
   },
   "outputs": [],
   "source": [
    "import pandas as pd\n",
    "import numpy as np\n",
    "import pickle\n",
    "import requests"
   ]
  },
  {
   "cell_type": "markdown",
   "metadata": {},
   "source": [
    "## Declaring constants used in the notebook"
   ]
  },
  {
   "cell_type": "code",
   "execution_count": 26,
   "metadata": {
    "collapsed": true
   },
   "outputs": [],
   "source": [
    "PRESENT_YEAR = 2017"
   ]
  },
  {
   "cell_type": "markdown",
   "metadata": {},
   "source": [
    "## Reading the FB data stored in JSON format from the disk"
   ]
  },
  {
   "cell_type": "code",
   "execution_count": 51,
   "metadata": {},
   "outputs": [],
   "source": [
    "def readData(filename):\n",
    "    \"\"\"\n",
    "    Method reads the facebook Graph API dump data already stored on the\n",
    "    disk in pickle format. The data is in JSON format\n",
    "    :param filename : filename for the data stored on the disk\n",
    "    :return : Json Data extracted from FB API that was stored on the disk\n",
    "    \"\"\"\n",
    "    with open(filename, \"rb\") as fileHandler:\n",
    "        data = pickle.load(fileHandler)    \n",
    "    return data\n",
    "\n",
    "filename = \"../output/aashishFrnds\"\n",
    "data = readData(filename)"
   ]
  },
  {
   "cell_type": "code",
   "execution_count": 52,
   "metadata": {},
   "outputs": [
    {
     "data": {
      "text/plain": [
       "dict_keys(['photos', 'work', 'likes', 'favorite_athletes', 'favorite_teams', 'birthday', 'tagged_places', 'sports', 'id', 'hometown', 'name', 'education', 'gender', 'family', 'location', 'friends', 'relationship_status'])"
      ]
     },
     "execution_count": 52,
     "metadata": {},
     "output_type": "execute_result"
    }
   ],
   "source": [
    "# data['friends']['data'] # a list of user's friends\n",
    "data.keys()"
   ]
  },
  {
   "cell_type": "markdown",
   "metadata": {},
   "source": [
    "## Building User_Feature Matrix"
   ]
  },
  {
   "cell_type": "code",
   "execution_count": 53,
   "metadata": {},
   "outputs": [],
   "source": [
    "def reqData(req):\n",
    "    \"\"\"\n",
    "    Method requests Longitude and Latitude data from fb Graph API explorer.\n",
    "    :return: data fetched from Graph API\n",
    "    \"\"\"\n",
    "    accessToken = \"EAACEdEose0cBANnzu3eimBYGfhWkhYZCSm8y9jTGHCW4ZA0bg8cFVsunX9pmXtVA2fzdLpVNqitcacIshNclvLxctIQw0N9Wtd5Fu3jF7DfCP4dxHAm5pknd0v1TpdG8dnCB60DmZBltRrIrL8KbmK7hkgB5OxUeoNF31Rq7TJyeheRqN3rtuCZAhJDf6orCVJEpY4dEJQZDZD\"\n",
    "    response = requests.get(\"https://graph.facebook.com/v2.10/\" + req,\n",
    "                 {'access_token':accessToken})\n",
    "#     print (response)\n",
    "    return str(response.json()[\"location\"][\"latitude\"]), str(response.json()[\"location\"][\"longitude\"])\n",
    "\n",
    "def getFeatures(data):\n",
    "    \"\"\"\n",
    "    Function to extract feautures like user_id, age, present_latitude, present_longitude from the given data\n",
    "    :param data : JSON. Data extracted from FB graph API\n",
    "    :return     : List of strings. e.g. [user_id, age, p_lat, p_log]\n",
    "    \"\"\"\n",
    "    user_id = data['id']\n",
    "    \n",
    "    try:\n",
    "        birthYear = data['birthday'][-4: ]\n",
    "    except Exception as e:\n",
    "        birthYear = None\n",
    "    try:    \n",
    "        age = str(PRESENT_YEAR - int(birthYear))\n",
    "    except Exception as e:\n",
    "        age = None\n",
    "        \n",
    "    try:        \n",
    "        location_id = data['location']['id']\n",
    "        query = location_id+\"?fields=location\"\n",
    "        p_lat, p_long = reqData(query)\n",
    "    except Exception as e:        \n",
    "        p_lat, p_long = None, None\n",
    "        \n",
    "    return user_id, age, p_lat, p_long\n",
    "\n",
    "def writeUserFeatureVector(fileHandler, *args):\n",
    "    \"\"\"\n",
    "    Function write user feature vector for 1 user on to disk with the provided fileHandler\n",
    "        e.g. 460881604288576 25 40.3 -70.456   (where 1st = ID, 2nd = Age, 3rd = Long, 4th = Lat)\n",
    "    :param fileHandler : File Object.\n",
    "    :param *args : List of arguments. Contains information like, age, location_lat, location_long\n",
    "    :return : None\n",
    "    \"\"\"\n",
    "    for item in args:\n",
    "        fileHandler.write(str(item)+\" \")\n",
    "    fileHandler.write(\"\\n\")\n",
    "    return None\n",
    "\n",
    "def buildFeatureVectorForUsers(data):\n",
    "    \"\"\"\n",
    "    Function to write feature vector of all users on disk\n",
    "        e.g 460881604288576 25 40.3 -70.456 \n",
    "            123145675555555 26 12.6  50.9\n",
    "            897687345234534 32 34.5 -23.54\n",
    "    :param data: JSON. Data retrived from FB graph API\n",
    "    :return : None\n",
    "    \"\"\"\n",
    "    visitedUser = set()\n",
    "    with open(\"../data/userFeatureMatrix.txt\", 'w') as fileHandler:   \n",
    "        if data['id'] not in visitedUser:\n",
    "            user_id, age, p_lat, p_long = getFeatures(data)\n",
    "            writeUserFeatureVector(fileHandler, user_id, age, p_lat, p_long)\n",
    "            visitedUser.add(user_id)\n",
    "        \n",
    "        for friend in data['friends']['data']:\n",
    "            if friend['id'] not in visitedUser:\n",
    "                user_id, age, p_lat, p_long = getFeatures(friend)\n",
    "                writeUserFeatureVector(fileHandler, user_id, age, p_lat, p_long)\n",
    "                visitedUser.add(user_id)\n",
    "            try:\n",
    "                for friend1 in friend['friends']['data']:\n",
    "                    if friend1['id'] not in visitedUser['id']:\n",
    "                        user_id, age, p_lat, p_long = getFeatures(friend)\n",
    "                        writeUserFeatureVector(fileHandler, suser_id, age, p_lat, p_long)\n",
    "                        visitedUser.add(user_id)\n",
    "            except Exception as e:\n",
    "                user_id, age, p_lat, p_long = friend1['id'], None, None, None\n",
    "                if user_id not in visitedUser:\n",
    "                    writeUserFeatureVector(fileHandler, user_id, age, p_lat, p_long)\n",
    "        \n",
    "        \n",
    "    return None\n",
    "\n",
    "buildFeatureVectorForUsers(data)"
   ]
  },
  {
   "cell_type": "code",
   "execution_count": 44,
   "metadata": {},
   "outputs": [
    {
     "data": {
      "text/plain": [
       "dict_keys(['name', 'id'])"
      ]
     },
     "execution_count": 44,
     "metadata": {},
     "output_type": "execute_result"
    }
   ],
   "source": [
    "data['friends']['data'][0]['friends']['data'][0].keys()"
   ]
  },
  {
   "cell_type": "code",
   "execution_count": null,
   "metadata": {
    "collapsed": true
   },
   "outputs": [],
   "source": []
  }
 ],
 "metadata": {
  "kernelspec": {
   "display_name": "Python 3",
   "language": "python",
   "name": "python3"
  },
  "language_info": {
   "codemirror_mode": {
    "name": "ipython",
    "version": 3
   },
   "file_extension": ".py",
   "mimetype": "text/x-python",
   "name": "python",
   "nbconvert_exporter": "python",
   "pygments_lexer": "ipython3",
   "version": "3.5.3"
  }
 },
 "nbformat": 4,
 "nbformat_minor": 2
}
